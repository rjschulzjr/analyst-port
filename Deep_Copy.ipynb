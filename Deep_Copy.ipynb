{
 "cells": [
  {
   "cell_type": "markdown",
   "metadata": {},
   "source": [
    "### Python Deep Copy\n",
    "\n",
    "This is an exercise to demonstrate how Python allocates memory."
   ]
  },
  {
   "cell_type": "code",
   "execution_count": 3,
   "metadata": {},
   "outputs": [
    {
     "name": "stdout",
     "output_type": "stream",
     "text": [
      "140708258750864\n",
      "140708258750864\n",
      "140708258750864\n",
      "140708258750896\n",
      "1\n",
      "2\n"
     ]
    }
   ],
   "source": [
    "a = 1\n",
    "print (id(a))\n",
    "print (id(1))\n",
    "b = 1\n",
    "print (id(b)) # note the value of '1' is what is retained in memory (IE - a, b = 1)\n",
    "b = b + 1     \n",
    "print (id(b)) # note that when b is modified it stores the this memory separately\n",
    "print (a)\n",
    "print (b)"
   ]
  },
  {
   "cell_type": "markdown",
   "metadata": {},
   "source": [
    "**Useful Article on Shallow Copy and Deep Copy with pictorial representation**\n",
    "+ \"http://www.python-course.eu/deep_copy.php\"  "
   ]
  },
  {
   "cell_type": "code",
   "execution_count": 4,
   "metadata": {},
   "outputs": [
    {
     "name": "stdout",
     "output_type": "stream",
     "text": [
      "1816828576520\n",
      "[1, 2, 3]\n",
      "[1, 2, 3]\n",
      "1816828576520\n"
     ]
    }
   ],
   "source": [
    "# soft copy\n",
    "# Lists\n",
    "list_a = [1,2,3]\n",
    "print (id(list_a)) \n",
    "list_b = list_a\n",
    "print (list_a)\n",
    "print (list_b)\n",
    "print (id(list_b))"
   ]
  },
  {
   "cell_type": "code",
   "execution_count": 5,
   "metadata": {},
   "outputs": [
    {
     "name": "stdout",
     "output_type": "stream",
     "text": [
      "2\n",
      "[1, 'two', 3]\n",
      "[1, 'two', 3]\n"
     ]
    }
   ],
   "source": [
    "# modify one element\n",
    "print (list_a[1])\n",
    "list_a[1]=\"two\"\n",
    "print (list_a)\n",
    "print (list_b)\n",
    "# modify the whole list"
   ]
  },
  {
   "cell_type": "code",
   "execution_count": 6,
   "metadata": {},
   "outputs": [
    {
     "name": "stdout",
     "output_type": "stream",
     "text": [
      "[1, 2, 3]\n",
      "[1, 'two', 3]\n"
     ]
    }
   ],
   "source": [
    "list_a = [1,2,3]\n",
    "print (list_a)\n",
    "print (list_b)"
   ]
  },
  {
   "cell_type": "code",
   "execution_count": 7,
   "metadata": {},
   "outputs": [],
   "source": [
    "# deep copy\n",
    "import copy\n",
    "list_a = [1,2,3]\n",
    "# example 1 of deep copy\n",
    "list_b = list_a[:]\n",
    "# example 2 of deep copy\n",
    "list_c = copy.deepcopy(list_a) "
   ]
  },
  {
   "cell_type": "code",
   "execution_count": 8,
   "metadata": {},
   "outputs": [
    {
     "name": "stdout",
     "output_type": "stream",
     "text": [
      "[1, 2, 3] 1816828432136\n",
      "[1, 2, 3] 1816828577096\n",
      "[1, 2, 3] 1816828548808\n"
     ]
    }
   ],
   "source": [
    "print (list_b,id(list_b))\n",
    "print (list_a,id(list_a))\n",
    "print (list_c,id(list_c))"
   ]
  },
  {
   "cell_type": "code",
   "execution_count": null,
   "metadata": {},
   "outputs": [],
   "source": []
  }
 ],
 "metadata": {
  "kernelspec": {
   "display_name": "Python 3",
   "language": "python",
   "name": "python3"
  },
  "language_info": {
   "codemirror_mode": {
    "name": "ipython",
    "version": 3
   },
   "file_extension": ".py",
   "mimetype": "text/x-python",
   "name": "python",
   "nbconvert_exporter": "python",
   "pygments_lexer": "ipython3",
   "version": "3.7.6"
  }
 },
 "nbformat": 4,
 "nbformat_minor": 4
}
