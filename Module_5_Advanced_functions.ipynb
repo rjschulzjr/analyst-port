{
 "cells": [
  {
   "cell_type": "markdown",
   "metadata": {
    "deletable": false,
    "editable": false,
    "nbgrader": {
     "grade": false,
     "locked": true,
     "solution": false
    }
   },
   "source": [
    "# Module 5. Advanced functions.\n",
    "\n",
    "**_Author: Favio Vázquez_**\n",
    "\n",
    "**_Reviewer: Jessica Cervi_**\n",
    "\n",
    "**Expected time = 2.5 hours**\n",
    "\n",
    "**Total points = 120 points**\n"
   ]
  },
  {
   "cell_type": "markdown",
   "metadata": {
    "deletable": false,
    "editable": false,
    "nbgrader": {
     "grade": false,
     "locked": true,
     "solution": false
    }
   },
   "source": [
    "## Assignment Overview\n",
    "\n",
    "In this assignment you will work with Python functions, from the basics of their structure to more nuanced activities. You will start by reviewing what you learned about functions in earlier modules, then you will practice how to cast arguments inside of functions, how to use the local and the global environment, how to use nested functions, and then how to deal with exceptions. In the final part of the assignment you will be testing your knowledge of lambda functions and the basics of functional programming.\n",
    "\n",
    "This assignment is designed to build your familiarity and comfort coding in Python while also helping you review key topics from each module. As you progress through the assignment, answers will get increasingly complex. It is important that you adopt a data scientist's mindset when completing this assignment. **Remember to run your code from each cell before submitting your assignment.** Running your code beforehand will notify you of errors and give you a chance to fix your errors before submitting. You should view your Vocareum submission as if you are delivering a final project to your manager or client. \n",
    "\n",
    "***Vocareum Tips***\n",
    "- Do not add arguments or options to functions unless you are specifically asked to. This will cause an error in Vocareum.\n",
    "- Do not use a library unless you are explibitly asked to in the question. \n",
    "- You can download the Grading Report after submitting the assignment. This will include feedback and hints on incorrect questions.\n",
    "\n",
    "\n",
    "### Learning Objectives\n",
    "\n",
    "- Construct complex functions including functions with multiple parameters, nested functions, and functions with default vs. flexible arguments. \n",
    "- Distinguish between global, local, and built-in scope. \n",
    "- Interpret errors and understand exceptions in order to troubleshoot.  \n",
    "- Use lambda functions to analyze DataFrames."
   ]
  },
  {
   "cell_type": "markdown",
   "metadata": {
    "deletable": false,
    "editable": false,
    "nbgrader": {
     "grade": false,
     "locked": true,
     "solution": false
    }
   },
   "source": [
    "## Index:\n",
    "\n",
    "#### Module 5: Advanced functions\n",
    "\n",
    "- [Question 1](#Question-1)\n",
    "- [Question 2](#Question-2)\n",
    "- [Question 3](#Question-3)\n",
    "- [Question 4](#Question-4)\n",
    "- [Question 5](#Question-5)\n",
    "- [Question 6](#Question-6)\n",
    "- [Question 7](#Question-7)\n",
    "- [Question 8](#Question-8)\n",
    "- [Question 9](#Question-9)\n",
    "- [Question 10](#Question-10)\n",
    "- [Question 11](#Question-11)\n",
    "- [Question 12](#Question-12)"
   ]
  },
  {
   "cell_type": "markdown",
   "metadata": {
    "deletable": false,
    "editable": false,
    "nbgrader": {
     "grade": false,
     "locked": true,
     "solution": false
    }
   },
   "source": [
    "\n",
    "## Module 5: Advanced functions\n",
    "\n",
    "In the first part of this assignment, we will be reviewing the basics of functions and the way we create them in Python."
   ]
  },
  {
   "cell_type": "markdown",
   "metadata": {
    "deletable": false,
    "editable": false,
    "nbgrader": {
     "grade": false,
     "locked": true,
     "solution": false
    }
   },
   "source": [
    "### Basic functions review\n",
    "\n",
    "We will begin this assignment with a review of how to write functions to refresh your memory of the basics. Every function definition in Python starts with the keyword `def` followed by the name of the function.\n",
    "The name of the function is followed by parentheses that are suppose to include *arguments*, if there are any.\n",
    "\n",
    "The header of the function is followed by the *body of the function*. This is meant to be an **indented**\n",
    "block of code containing the instructions that the function is supposed to perform.\n",
    "\n",
    "Sometime a function ends with a `return` statement. A return statement is used to end the execution of the function call and 'returns' the result (value of the expression following the return keyword) to the caller. \n",
    "\n",
    "The pseudocode below displays the general structure of a function.\n",
    " \n",
    " \n",
    " ``` Python\n",
    "def name_of_function(args):\n",
    "    body of the function\n",
    "    return var\n",
    "```\n",
    "\n",
    "\n",
    "Before starting the assignment, we will provide you with an example function to practice with.\n",
    "\n",
    "### Example 1\n",
    "\n",
    "Define a function called `div_by_five` that takes a number `x` as input. Your function should check whether `x` is divisible by five and, if so, return `x` cubed. Otherwise, your function should return the string `Number not divisible by five`.\n",
    "\n",
    "\n",
    "### Solution\n",
    "\n",
    "Observe the code cell below, where we have defined the function according to the instructions given above:"
   ]
  },
  {
   "cell_type": "code",
   "execution_count": 1,
   "metadata": {
    "collapsed": true,
    "deletable": false,
    "editable": false,
    "nbgrader": {
     "grade": false,
     "locked": true,
     "solution": false
    }
   },
   "outputs": [],
   "source": [
    "def div_by_five(x):\n",
    "    if (x%5 ==0):\n",
    "        return x**3\n",
    "    else:\n",
    "        return 'Number not divisible by five'"
   ]
  },
  {
   "cell_type": "markdown",
   "metadata": {
    "deletable": false,
    "editable": false,
    "nbgrader": {
     "grade": false,
     "locked": true,
     "solution": false
    }
   },
   "source": [
    "In the function header, we have defined the function name `div_by_five` and listed the arguments that our function takes. Next, we checked, using an `if` statement, whether x is divisible by five or not. If yes, the function returns the cube of `x`, otherwise we use `else` to return the string `Number not divisible by five`.\n",
    "\n",
    "\n",
    "**IMPORTANT NOTE: In some questions, we will ask you to assign the result of a certain operation to a variable and then return that variable. Make sure to read the instructions for each question carefully.**\n",
    "\n",
    "Before starting the assignment, feel free to change the argument passed to `div_by_five` in the code cell below to see the function in action."
   ]
  },
  {
   "cell_type": "code",
   "execution_count": 2,
   "metadata": {
    "deletable": false,
    "editable": false,
    "nbgrader": {
     "grade": false,
     "locked": true,
     "solution": false
    }
   },
   "outputs": [
    {
     "data": {
      "text/plain": [
       "'Number not divisible by five'"
      ]
     },
     "execution_count": 2,
     "metadata": {},
     "output_type": "execute_result"
    }
   ],
   "source": [
    "div_by_five(7)"
   ]
  },
  {
   "cell_type": "markdown",
   "metadata": {
    "deletable": false,
    "editable": false,
    "nbgrader": {
     "grade": false,
     "locked": true,
     "solution": false
    }
   },
   "source": [
    "[Back to top](#Index:) \n",
    "### Question 1\n",
    "*5 points*\n",
    "\n",
    "Define a function called `square_cond` that takes takes the variable x as input, which should be a \n",
    "number.  Your function should check whether `x` is even  and, if so, returns `x` squared. Otherwise, your function should return the string \"Odd number\".\n"
   ]
  },
  {
   "cell_type": "code",
   "execution_count": 6,
   "metadata": {},
   "outputs": [
    {
     "data": {
      "text/plain": [
       "16"
      ]
     },
     "execution_count": 6,
     "metadata": {},
     "output_type": "execute_result"
    }
   ],
   "source": [
    "### GRADED\n",
    "\n",
    "### YOUR SOLUTION HERE\n",
    "def square_cond(x):\n",
    "    if (x%2 == 0):\n",
    "         return x**2\n",
    "    else:\n",
    "         return \"Odd number\"\n",
    "square_cond(4)\n",
    "###\n",
    "### YOUR CODE HERE\n",
    "###\n"
   ]
  },
  {
   "cell_type": "code",
   "execution_count": 2,
   "metadata": {
    "collapsed": true,
    "deletable": false,
    "editable": false,
    "nbgrader": {
     "grade": true,
     "grade_id": "Question 01",
     "locked": true,
     "points": "5",
     "solution": false
    }
   },
   "outputs": [],
   "source": [
    "###\n",
    "### AUTOGRADER TEST - DO NOT REMOVE\n",
    "###\n"
   ]
  },
  {
   "cell_type": "markdown",
   "metadata": {
    "deletable": false,
    "editable": false,
    "nbgrader": {
     "grade": false,
     "locked": true,
     "solution": false
    }
   },
   "source": [
    "[Back to top](#Index:) \n",
    "\n",
    "### Question 2\n",
    "*10 points*\n",
    "\n",
    "Functions can also accept multiple arguments and return multiple variables at once by separating them with a comma.\n",
    "\n",
    "Create a Python function called `multi_operation` that takes, as input, two floats, `a` and `b`.\n",
    "\n",
    "Your function should compute the product of `a` and `b` and assign the result to `multi`. Next, your function should compute the integer division between `a` and `b` and assign the result to `div`.\n",
    "The function should return both the `multi` and the `div` variables.\n",
    "\n",
    "**Hint: The integer division is perfomed by the `//` operator.**"
   ]
  },
  {
   "cell_type": "code",
   "execution_count": 8,
   "metadata": {},
   "outputs": [
    {
     "data": {
      "text/plain": [
       "(2.5, 2)"
      ]
     },
     "execution_count": 8,
     "metadata": {},
     "output_type": "execute_result"
    }
   ],
   "source": [
    "### GRADED\n",
    "\n",
    "### YOUR SOLUTION HERE\n",
    "def multi_operation(a,b):\n",
    "    multi = a*b\n",
    "    div = int(a/b)\n",
    "    return multi, div\n",
    "\n",
    "multi_operation(2.5,1)\n",
    "\n",
    "###\n",
    "### YOUR CODE HERE\n",
    "###\n"
   ]
  },
  {
   "cell_type": "code",
   "execution_count": null,
   "metadata": {
    "collapsed": true,
    "deletable": false,
    "editable": false,
    "nbgrader": {
     "grade": true,
     "grade_id": "Question 02",
     "locked": true,
     "points": "10",
     "solution": false
    }
   },
   "outputs": [],
   "source": [
    "###\n",
    "### AUTOGRADER TEST - DO NOT REMOVE\n",
    "###\n"
   ]
  },
  {
   "cell_type": "markdown",
   "metadata": {
    "deletable": false,
    "editable": false,
    "nbgrader": {
     "grade": false,
     "locked": true,
     "solution": false
    }
   },
   "source": [
    "### Local vs Global scope\n",
    "\n",
    "In this section you will test your knowledge about the different scopes in Python. Remember,\n",
    "\n",
    "- Variables have global scope in the *main body* of the script\n",
    "- Variables defined within a function have local scope by default\n",
    "- We can define global variables within a function by using the keywird global\n",
    "\n",
    "Observe the code below:\n",
    "\n",
    "```Python\n",
    "\n",
    "a = \"Data science is awesome!\"\n",
    "\n",
    "def my_fun(x)\n",
    "    global result\n",
    "    result = x**3\n",
    "    result_squared = result**2\n",
    "    \n",
    "```"
   ]
  },
  {
   "cell_type": "markdown",
   "metadata": {
    "deletable": false,
    "editable": false,
    "nbgrader": {
     "grade": false,
     "locked": true,
     "solution": false
    }
   },
   "source": [
    "In the code above, the variable `a` is defined in the main body. Therefore `a` can be used *everywhere* in my code.\n",
    "\n",
    "In the function `my_fun`, we have defined the variable `result` to be global. This means that, after calling the function, we can access the value of `result` from the main body of my code without returning the variable with the function. On the other hand, `result_squared` is defined locally inside the function, therefore I can only use that variable within `my_fun`."
   ]
  },
  {
   "cell_type": "markdown",
   "metadata": {
    "deletable": false,
    "editable": false,
    "nbgrader": {
     "grade": false,
     "locked": true,
     "solution": false
    }
   },
   "source": [
    "[Back to top](#Index:) \n",
    "\n",
    "### Question 3\n",
    "*10 points*\n",
    "\n",
    "Remember that variables that are defined inside a function body have a local scope, and those defined outside have a global scope. However, you can make variables inside a function global by declaring them using the `global` keyword.\n",
    "\n",
    "Define a function called `global_sum` that takes two integers `a` and `b`. \n",
    "Inside the function, create a global variable `number` to store the result.\n",
    "Assign to `number` the result of the sum between `a` and `b`.\n",
    "\n",
    "**NOTE: Because `number` is defined globally, we can access its values without a return statement.**"
   ]
  },
  {
   "cell_type": "code",
   "execution_count": 9,
   "metadata": {},
   "outputs": [
    {
     "data": {
      "text/plain": [
       "7"
      ]
     },
     "execution_count": 9,
     "metadata": {},
     "output_type": "execute_result"
    }
   ],
   "source": [
    "### GRADED\n",
    "\n",
    "### YOUR SOLUTION HERE\n",
    "def global_sum(a,b):\n",
    "    global number\n",
    "    number = a + b\n",
    "    return number\n",
    "\n",
    "global_sum (2,5)\n",
    "\n",
    "###\n",
    "### YOUR CODE HERE\n",
    "###\n"
   ]
  },
  {
   "cell_type": "code",
   "execution_count": null,
   "metadata": {
    "collapsed": true,
    "deletable": false,
    "editable": false,
    "nbgrader": {
     "grade": true,
     "grade_id": "Question 03",
     "locked": true,
     "points": "10",
     "solution": false
    }
   },
   "outputs": [],
   "source": [
    "###\n",
    "### AUTOGRADER TEST - DO NOT REMOVE\n",
    "###\n"
   ]
  },
  {
   "cell_type": "markdown",
   "metadata": {
    "deletable": false,
    "editable": false,
    "nbgrader": {
     "grade": false,
     "locked": true,
     "solution": false
    }
   },
   "source": [
    "[Back to top](#Index:) \n",
    "\n",
    "### Question 4\n",
    "*5 points*\n",
    "\n",
    "In the code cell below, we have defined the variable `x` for you.\n",
    "\n",
    "Create a function called `i_print` that takes one argument `x`. The function should return the value `x` as an integer."
   ]
  },
  {
   "cell_type": "code",
   "execution_count": 13,
   "metadata": {
    "nbgrader": {
     "grade": false,
     "locked": false,
     "solution": false
    }
   },
   "outputs": [
    {
     "data": {
      "text/plain": [
       "10"
      ]
     },
     "execution_count": 13,
     "metadata": {},
     "output_type": "execute_result"
    }
   ],
   "source": [
    "### GRADED\n",
    "\n",
    "### YOUR SOLUTION HERE\n",
    "# Definition of x\n",
    "x = 10.0\n",
    "\n",
    "def i_print(x):\n",
    "    return int(x)\n",
    "\n",
    "i_print(x)\n",
    "\n",
    "###\n",
    "### YOUR CODE HERE\n",
    "###\n"
   ]
  },
  {
   "cell_type": "code",
   "execution_count": null,
   "metadata": {
    "collapsed": true,
    "deletable": false,
    "editable": false,
    "nbgrader": {
     "grade": true,
     "grade_id": "Question 04",
     "locked": true,
     "points": "5",
     "solution": false
    }
   },
   "outputs": [],
   "source": [
    "###\n",
    "### AUTOGRADER TEST - DO NOT REMOVE\n",
    "###\n"
   ]
  },
  {
   "cell_type": "markdown",
   "metadata": {
    "deletable": false,
    "editable": false,
    "nbgrader": {
     "grade": false,
     "locked": true,
     "solution": false
    }
   },
   "source": [
    "[Back to top](#Index:) \n",
    "\n",
    "### Question 5\n",
    "\n",
    "*5 points*\n",
    "\n",
    "We define a function as:\n",
    "\n",
    "```python\n",
    "\n",
    "a = 10\n",
    "\n",
    "def h():     \n",
    "    global a \n",
    "    a = 3\n",
    "    return a\n",
    "```\n",
    "\n",
    "What will the function `h()` return? Store your solution in the variable `ans_1`."
   ]
  },
  {
   "cell_type": "code",
   "execution_count": null,
   "metadata": {
    "collapsed": true
   },
   "outputs": [],
   "source": [
    "### GRADED\n",
    "\n",
    "### YOUR SOLUTION HERE\n",
    "ans_1 = 3\n",
    "\n",
    "###\n",
    "### YOUR CODE HERE\n",
    "###\n"
   ]
  },
  {
   "cell_type": "code",
   "execution_count": null,
   "metadata": {
    "collapsed": true,
    "deletable": false,
    "editable": false,
    "nbgrader": {
     "grade": true,
     "grade_id": "Question 05",
     "locked": true,
     "points": "5",
     "solution": false
    }
   },
   "outputs": [],
   "source": [
    "###\n",
    "### AUTOGRADER TEST - DO NOT REMOVE\n",
    "###\n"
   ]
  },
  {
   "cell_type": "markdown",
   "metadata": {
    "deletable": false,
    "editable": false,
    "nbgrader": {
     "grade": false,
     "locked": true,
     "solution": false
    }
   },
   "source": [
    "### Nested functions and multiple arguments\n",
    "\n",
    "In this section you will test your knowledge on how to create and use nested functions and how to define functions with default parameters.\n",
    "\n",
    "We use nested functions to run a process multiple times. You may remember:\n",
    "- A nested function is a function within a function.\n",
    "- Return is used to return the variable so it can be used by a function.\n",
    "- The innermost function is processed first.\n",
    "- The outermost function is processed last.\n",
    "\n",
    "We can use built-in functions with default arguments and specify default arguments for our user-defined functions. \n",
    "- Default arguments make it optional for the user to enter an argument.\n",
    "- We can use an asterisk before our parameter name to indicate that any number of arguments can be passed through the function and use a for loop so the function applies the code to each argument."
   ]
  },
  {
   "cell_type": "markdown",
   "metadata": {
    "deletable": false,
    "editable": false,
    "nbgrader": {
     "grade": false,
     "locked": true,
     "solution": false
    }
   },
   "source": [
    "[Back to top](#Index:) \n",
    "\n",
    "### Question 6\n",
    "*15 points*\n",
    "\n",
    "Define a function called `nested_sum`. This function is going to be the ourtermost one of your nested functions and should accept an argument  `x`.\n",
    "\n",
    "Within `nested_sum`, define a function `f` that accepts an argument `y`. The function `f` should calculate and return the sum of `x` and `y`. \n",
    "\n",
    "Have `nested_sum` return `f`.\n",
    "\n",
    "To test your function create a variable called `res_1` where you pass the  argument `x=2` to `nested_sum`, and then create a variable called `res_2` where you pass the argument `y = 10` of the `res_1` variable to get the final solution. \n"
   ]
  },
  {
   "cell_type": "code",
   "execution_count": 17,
   "metadata": {},
   "outputs": [
    {
     "ename": "NameError",
     "evalue": "name 'f' is not defined",
     "output_type": "error",
     "traceback": [
      "\u001b[0;31m---------------------------------------------------------------------------\u001b[0m",
      "\u001b[0;31mNameError\u001b[0m                                 Traceback (most recent call last)",
      "\u001b[0;32m<ipython-input-17-2d3fd89ba92d>\u001b[0m in \u001b[0;36m<module>\u001b[0;34m()\u001b[0m\n\u001b[1;32m      9\u001b[0m \u001b[0;34m\u001b[0m\u001b[0m\n\u001b[1;32m     10\u001b[0m \u001b[0mres_1\u001b[0m \u001b[0;34m=\u001b[0m \u001b[0mnested_sum\u001b[0m\u001b[0;34m(\u001b[0m\u001b[0;36m2\u001b[0m\u001b[0;34m)\u001b[0m\u001b[0;34m\u001b[0m\u001b[0m\n\u001b[0;32m---> 11\u001b[0;31m \u001b[0mres_2\u001b[0m \u001b[0;34m=\u001b[0m \u001b[0mf\u001b[0m\u001b[0;34m(\u001b[0m\u001b[0;36m10\u001b[0m\u001b[0;34m)\u001b[0m\u001b[0;34m\u001b[0m\u001b[0m\n\u001b[0m\u001b[1;32m     12\u001b[0m \u001b[0;34m\u001b[0m\u001b[0m\n\u001b[1;32m     13\u001b[0m \u001b[0mprint\u001b[0m \u001b[0;34m(\u001b[0m\u001b[0mres_1\u001b[0m\u001b[0;34m)\u001b[0m\u001b[0;34m\u001b[0m\u001b[0m\n",
      "\u001b[0;31mNameError\u001b[0m: name 'f' is not defined"
     ]
    }
   ],
   "source": [
    "### GRADED\n",
    "\n",
    "### YOUR SOLUTION HERE\n",
    "def nested_sum(x):\n",
    "    def f(y):\n",
    "        sum_xy = x + y\n",
    "        return sum_xy\n",
    "    return f\n",
    "\n",
    "res_1 = nested_sum(2)\n",
    "res_2 = f(10)\n",
    "\n",
    "print (res_1)\n",
    "print (res_2)\n",
    "\n",
    "###\n",
    "### YOUR CODE HERE\n",
    "###\n"
   ]
  },
  {
   "cell_type": "code",
   "execution_count": null,
   "metadata": {
    "collapsed": true,
    "deletable": false,
    "editable": false,
    "nbgrader": {
     "grade": true,
     "grade_id": "Question 06",
     "locked": true,
     "points": "15",
     "solution": false
    }
   },
   "outputs": [],
   "source": [
    "###\n",
    "### AUTOGRADER TEST - DO NOT REMOVE\n",
    "###\n"
   ]
  },
  {
   "cell_type": "markdown",
   "metadata": {
    "deletable": false,
    "editable": false,
    "nbgrader": {
     "grade": false,
     "locked": true,
     "solution": false
    }
   },
   "source": [
    "[Back to top](#Index:) \n",
    "\n",
    "### Question 7\n",
    "*10 points*\n",
    "\n",
    "Define a function called `i_divide` that takes two arguments: `num_1` and `num_2`, where `num_2` equals 2 *by default*. The return statement should divide `num_1` by `num_2`."
   ]
  },
  {
   "cell_type": "code",
   "execution_count": 18,
   "metadata": {},
   "outputs": [
    {
     "data": {
      "text/plain": [
       "2.0"
      ]
     },
     "execution_count": 18,
     "metadata": {},
     "output_type": "execute_result"
    }
   ],
   "source": [
    "### GRADED\n",
    "\n",
    "### YOUR SOLUTION HERE\n",
    "def i_divide(num_1, num_2=2):\n",
    "    return (num_1/num_2)\n",
    "\n",
    "i_divide(4)\n",
    "\n",
    "###\n",
    "### YOUR CODE HERE\n",
    "###\n"
   ]
  },
  {
   "cell_type": "code",
   "execution_count": null,
   "metadata": {
    "collapsed": true,
    "deletable": false,
    "editable": false,
    "nbgrader": {
     "grade": true,
     "grade_id": "Question 07",
     "locked": true,
     "points": "10",
     "solution": false
    }
   },
   "outputs": [],
   "source": [
    "###\n",
    "### AUTOGRADER TEST - DO NOT REMOVE\n",
    "###\n"
   ]
  },
  {
   "cell_type": "markdown",
   "metadata": {
    "deletable": false,
    "editable": false,
    "nbgrader": {
     "grade": false,
     "locked": true,
     "solution": false
    }
   },
   "source": [
    "### Handling exceptions\n",
    "\n",
    "In this section you will test your knowledge on how to handle different types of exceptions and raise errors in Python.\n",
    "- You can use `try` and `except` to print a customized error message. \n",
    "- Remember to specify the error type after `except` to ensure that error messages are specific to potential errors. \n",
    "- You can use an if statement to create more refined error messages. "
   ]
  },
  {
   "cell_type": "markdown",
   "metadata": {
    "deletable": false,
    "editable": false,
    "nbgrader": {
     "grade": false,
     "locked": true,
     "solution": false
    }
   },
   "source": [
    "[Back to top](#Index:) \n",
    "\n",
    "### Question 8\n",
    "*20 points*\n",
    "\n",
    "Define a function called `exce_sum` that takes two arguments, `a` and `b`.\n",
    "\n",
    "If both arguments are  0, the function should raise an `ValueError` exception saying \"Invalid numbers\". Otherwise, your function should return the sum of two arguments.\n",
    "\n",
    "Please review the psuedocode for the function to help you get started:\n",
    "\n",
    "```Python\n",
    "def exce_sum(arguments):\n",
    "    try:\n",
    "        if both numbers are zero\n",
    "            raise ValueError(\"Some error message\")\n",
    "        return  sum of arguments\n",
    "    except ValueError as err\n",
    "        return str(err)\n",
    "```"
   ]
  },
  {
   "cell_type": "code",
   "execution_count": 25,
   "metadata": {},
   "outputs": [
    {
     "data": {
      "text/plain": [
       "2"
      ]
     },
     "execution_count": 25,
     "metadata": {},
     "output_type": "execute_result"
    }
   ],
   "source": [
    "### GRADED\n",
    "\n",
    "### YOUR SOLUTION HERE\n",
    "def exce_sum(a,b):\n",
    "    try:\n",
    "        if a == 0 and b == 0:\n",
    "            raise ValueError(\"Invalid numbers\")\n",
    "        return (a + b)\n",
    "    except ValueError as err:\n",
    "        return str(err)\n",
    "\n",
    "exce_sum(1,1)\n",
    "###\n",
    "### YOUR CODE HERE\n",
    "###\n"
   ]
  },
  {
   "cell_type": "code",
   "execution_count": null,
   "metadata": {
    "collapsed": true,
    "deletable": false,
    "editable": false,
    "nbgrader": {
     "grade": true,
     "grade_id": "Question 08",
     "locked": true,
     "points": "20",
     "solution": false
    }
   },
   "outputs": [],
   "source": [
    "###\n",
    "### AUTOGRADER TEST - DO NOT REMOVE\n",
    "###\n"
   ]
  },
  {
   "cell_type": "markdown",
   "metadata": {
    "deletable": false,
    "editable": false,
    "nbgrader": {
     "grade": false,
     "locked": true,
     "solution": false
    }
   },
   "source": [
    "[Back to top](#Index:) \n",
    "\n",
    "### Question 9\n",
    "*15 points*\n",
    "\n",
    "Define a function called `exce_sub` that takes two arguments, `a` and `b`.\n",
    "\n",
    "If both arguments are  1, the function should raise a `ValueError` exception saying \"Invalid numbers\". Otherwise, your function should return the difference of `a` and `b`.\n",
    "\n",
    "Please review the psuedocode for the function to help you get started:\n",
    "\n",
    "```Python\n",
    "def exce_sub(arguments):\n",
    "    try:\n",
    "        if both numbers are one\n",
    "            raise ValueError(\"Some error message\")\n",
    "        return difference of arguments\n",
    "    except ValueError as err\n",
    "        return str(err)\n",
    "```"
   ]
  },
  {
   "cell_type": "code",
   "execution_count": 38,
   "metadata": {},
   "outputs": [
    {
     "data": {
      "text/plain": [
       "3"
      ]
     },
     "execution_count": 38,
     "metadata": {},
     "output_type": "execute_result"
    }
   ],
   "source": [
    "### GRADED\n",
    "\n",
    "### YOUR SOLUTION HERE\n",
    "\n",
    "def exce_sub(a,b):\n",
    "    try:\n",
    "        if a == 1 and b == 1:\n",
    "            raise ValueError(\"Invalid numbers\")\n",
    "        return (a - b)\n",
    "    except ValueError as err:\n",
    "        return str(err)\n",
    "\n",
    "exce_sub(7,4)\n",
    "\n",
    "###\n",
    "### YOUR CODE HERE\n",
    "###\n"
   ]
  },
  {
   "cell_type": "code",
   "execution_count": null,
   "metadata": {
    "collapsed": true,
    "deletable": false,
    "editable": false,
    "nbgrader": {
     "grade": true,
     "grade_id": "Question 09",
     "locked": true,
     "points": "15",
     "solution": false
    }
   },
   "outputs": [],
   "source": [
    "###\n",
    "### AUTOGRADER TEST - DO NOT REMOVE\n",
    "###\n"
   ]
  },
  {
   "cell_type": "markdown",
   "metadata": {
    "deletable": false,
    "editable": false,
    "nbgrader": {
     "grade": false,
     "locked": true,
     "solution": false
    }
   },
   "source": [
    "### Lambda functions\n",
    "\n",
    "In this final section you will test your knowledge on lambda functions. Remember, you can use the `lambda` keyword to write functions quickly, but only for functions that evaluate to an expression. So this is a good approach for functions you will only use a few times. \n",
    "\n",
    "As you may remember, lambda functions look like this. \n",
    "\n",
    "```Python\n",
    "name = lambda argument: what the function will do\n",
    "```"
   ]
  },
  {
   "cell_type": "markdown",
   "metadata": {
    "deletable": false,
    "editable": false,
    "nbgrader": {
     "grade": false,
     "locked": true,
     "solution": false
    }
   },
   "source": [
    "[Back to top](#Index:) \n",
    "\n",
    "### Question 10\n",
    "*5 points*\n",
    "  \n",
    "Create a variable called `f` that stores a lambda function. Your lambda function should take one parameter, `x` and compute the square of it. \n",
    "\n",
    "Test your function with the number 6 and store it in a variable called `ans_1`, then test it again with the number 112 and store it in a variable called `ans_2`."
   ]
  },
  {
   "cell_type": "code",
   "execution_count": 42,
   "metadata": {},
   "outputs": [
    {
     "name": "stdout",
     "output_type": "stream",
     "text": [
      "36\n",
      "12544\n"
     ]
    }
   ],
   "source": [
    "### GRADED\n",
    "\n",
    "### YOUR SOLUTION HERE\n",
    "f = lambda x: x**2\n",
    "\n",
    "ans_1 = f(6)\n",
    "ans_2 = f(112)\n",
    "\n",
    "print (ans_1)\n",
    "print (ans_2)\n",
    "\n",
    "###\n",
    "### YOUR CODE HERE\n",
    "###\n"
   ]
  },
  {
   "cell_type": "code",
   "execution_count": null,
   "metadata": {
    "collapsed": true,
    "deletable": false,
    "editable": false,
    "nbgrader": {
     "grade": true,
     "grade_id": "Question 10",
     "locked": true,
     "points": "5",
     "solution": false
    }
   },
   "outputs": [],
   "source": [
    "###\n",
    "### AUTOGRADER TEST - DO NOT REMOVE\n",
    "###\n"
   ]
  },
  {
   "cell_type": "markdown",
   "metadata": {
    "deletable": false,
    "editable": false,
    "nbgrader": {
     "grade": false,
     "locked": true,
     "solution": false
    }
   },
   "source": [
    "[Back to top](#Index:) \n",
    "\n",
    "### Question 11\n",
    "*10 points*\n",
    "    \n",
    "You can also define a lambda function that takes more than one argument by separating the arguments by a comma.\n",
    "\n",
    "Define a lambda function `root` that takes two arguments, `x` and `n`, and computes the `n`th root of x.\n",
    "\n",
    "Test your function by setting `x = 32` and `n = 5`. \n",
    "\n",
    "Assign the result to `ans3`.\n",
    "\n",
    "Recall, you can compute the `n`th root of a number using the formula \n",
    "\n",
    "$$x^{\\frac{1}{n}}$$\n",
    "\n",
    "**HINT:** You can raise a variable to *any* power by using the ** operator."
   ]
  },
  {
   "cell_type": "code",
   "execution_count": 51,
   "metadata": {},
   "outputs": [
    {
     "name": "stdout",
     "output_type": "stream",
     "text": [
      "4.294967296e-23\n"
     ]
    }
   ],
   "source": [
    "### GRADED\n",
    "\n",
    "### YOUR SOLUTION HERE\n",
    "root = lambda x,n: (1/(x**n))\n",
    "\n",
    "ans3 = root(32,5)\n",
    "print (ans3)\n",
    "\n",
    "###\n",
    "### YOUR CODE HERE\n",
    "###\n"
   ]
  },
  {
   "cell_type": "code",
   "execution_count": null,
   "metadata": {
    "collapsed": true,
    "deletable": false,
    "editable": false,
    "nbgrader": {
     "grade": true,
     "grade_id": "Question 11",
     "locked": true,
     "points": "10",
     "solution": false
    }
   },
   "outputs": [],
   "source": [
    "###\n",
    "### AUTOGRADER TEST - DO NOT REMOVE\n",
    "###\n"
   ]
  },
  {
   "cell_type": "markdown",
   "metadata": {
    "deletable": false,
    "editable": false,
    "nbgrader": {
     "grade": false,
     "locked": true,
     "solution": false
    }
   },
   "source": [
    "[Back to top](#Index:) \n",
    "\n",
    "### Question 12\n",
    "*10 points*\n",
    "\n",
    "Define a lambda function `sum_prod` that takes three arguments, `x`, `y` and `n`, that computes sum of `x` and `y` and then multiplies the result by `n` squared. Test your function by setting `x = 14`, `y=45` and `n = 5`. Assign the result to `ans4`.\n"
   ]
  },
  {
   "cell_type": "code",
   "execution_count": 47,
   "metadata": {},
   "outputs": [
    {
     "name": "stdout",
     "output_type": "stream",
     "text": [
      "1475\n"
     ]
    }
   ],
   "source": [
    "### GRADED\n",
    "\n",
    "### YOUR SOLUTION HERE\n",
    "\n",
    "sum_prod = lambda x,y,n: (x+y)*(n**2)\n",
    "ans4 = sum_prod(14,45,5)\n",
    "print(ans4)\n",
    "\n",
    "###\n",
    "### YOUR CODE HERE\n",
    "###\n"
   ]
  },
  {
   "cell_type": "code",
   "execution_count": null,
   "metadata": {
    "collapsed": true,
    "deletable": false,
    "editable": false,
    "nbgrader": {
     "grade": true,
     "grade_id": "Question 12",
     "locked": true,
     "points": "10",
     "solution": false
    }
   },
   "outputs": [],
   "source": [
    "###\n",
    "### AUTOGRADER TEST - DO NOT REMOVE\n",
    "###\n"
   ]
  }
 ],
 "metadata": {
  "kernelspec": {
   "display_name": "Python 3",
   "language": "python",
   "name": "python3"
  },
  "language_info": {
   "codemirror_mode": {
    "name": "ipython",
    "version": 3
   },
   "file_extension": ".py",
   "mimetype": "text/x-python",
   "name": "python",
   "nbconvert_exporter": "python",
   "pygments_lexer": "ipython3",
   "version": "3.7.6"
  }
 },
 "nbformat": 4,
 "nbformat_minor": 4
}
