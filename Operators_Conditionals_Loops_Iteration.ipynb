{
 "cells": [
  {
   "cell_type": "markdown",
   "metadata": {},
   "source": []
  },
  {
   "cell_type": "markdown",
   "metadata": {},
   "source": [
    "# Operators\n",
    "\n",
    "## Comparison\n",
    "\n",
    "Take **2** operands, return a `Bool`.\n",
    "\n",
    "- `x > y`  # greater than\n",
    "- `x < y`  # less than\n",
    "- `x >= y` # greater than or equal to\n",
    "- `x <= y` # less than or equal to\n",
    "- `x == y` # is equal to\n",
    "- `x != y` # is not equal to\n",
    "\n",
    "Also, frequently, `in` might be used to create a boolean for testing to if an element is part of a collection. Collections covered next week.\n",
    " \n",
    "## Logical Operators\n",
    "Take **2 `Bool`** operands, return another `Bool`.\n",
    "\n",
    "- `x and y`\n",
    "- `x or y`\n",
    "- `not x`\n",
    "\n",
    "\n",
    "Operator | X         | Y         | Result\n",
    "---------|-----------|-----------|-------\n",
    "AND      | True      | True      | True\n",
    "         | True      | False     | False\n",
    "         | False     | True      | False\n",
    "         | False     | False     | False\n",
    "OR       | True      | True      | True\n",
    "         | True      | False     | True\n",
    "         | False     | True      | True\n",
    "         | False     | False     | False\n",
    "NOT      | True      | -         | False\n",
    "         | False     | -         | True\n",
    "\n",
    "**Arithmetic Operators**   \n",
    "+, -, *, **(exp), %, //\n",
    "\n",
    "\n",
    "**Assignment Operators**     \n",
    "+=, -=,*=                 a += b =>   a = a+b , a -= b => a=a-b\n",
    "\n",
    "**Bitwise Operators**        \n",
    "&(and) , |(or), ^ (XOR), ~(complement), \n",
    "\n",
    "**Membership Operators**      \n",
    "in/ not in \n",
    "\n",
    "**Identity Operators**         \n",
    "is / is not"
   ]
  },
  {
   "cell_type": "code",
   "execution_count": null,
   "metadata": {},
   "outputs": [],
   "source": [
    "#Simple Comparison Examples\n",
    "print (5 > 2)\n",
    "print (2 > 5)\n",
    "print (my_string == my_string2)\n",
    "print (type(True))  #just to demo the type for 'True' and 'False'\n",
    "print (type(False))"
   ]
  },
  {
   "cell_type": "markdown",
   "metadata": {},
   "source": [
    "### Operator precedence\n",
    "\n",
    "https://www.tutorialspoint.com/python/operators_precedence_example.htm"
   ]
  },
  {
   "cell_type": "code",
   "execution_count": 12,
   "metadata": {},
   "outputs": [
    {
     "name": "stdout",
     "output_type": "stream",
     "text": [
      "8 True\n"
     ]
    }
   ],
   "source": [
    "b=8\n",
    "print(b,bool(b)) #Non-zero numbers, strings with values are always True"
   ]
  },
  {
   "cell_type": "code",
   "execution_count": 13,
   "metadata": {},
   "outputs": [
    {
     "name": "stdout",
     "output_type": "stream",
     "text": [
      " False\n"
     ]
    }
   ],
   "source": [
    "c='' #Empty string\n",
    "print(c,bool(c)) #Empty strings, 0 numbers are always False"
   ]
  },
  {
   "cell_type": "code",
   "execution_count": 7,
   "metadata": {},
   "outputs": [
    {
     "name": "stdout",
     "output_type": "stream",
     "text": [
      "True\n"
     ]
    }
   ],
   "source": [
    "x=4\n",
    "y=5\n",
    "print(x>2 and y>2) #True because both x and y are greater than 2"
   ]
  },
  {
   "cell_type": "code",
   "execution_count": 9,
   "metadata": {},
   "outputs": [
    {
     "name": "stdout",
     "output_type": "stream",
     "text": [
      "False\n"
     ]
    }
   ],
   "source": [
    "print(x>2 and y<2) #False because one is False"
   ]
  },
  {
   "cell_type": "code",
   "execution_count": 10,
   "metadata": {},
   "outputs": [
    {
     "name": "stdout",
     "output_type": "stream",
     "text": [
      "False\n"
     ]
    }
   ],
   "source": [
    "print(x<2 and y<2) #False because both are False"
   ]
  },
  {
   "cell_type": "code",
   "execution_count": null,
   "metadata": {},
   "outputs": [],
   "source": [
    "print(x>2 or y>2) #True because at least one is True"
   ]
  },
  {
   "cell_type": "code",
   "execution_count": null,
   "metadata": {},
   "outputs": [],
   "source": [
    "print(x<2 or y>2) #True because at least one is True"
   ]
  },
  {
   "cell_type": "code",
   "execution_count": null,
   "metadata": {},
   "outputs": [],
   "source": [
    "print(x<2 or y<2) #False because both are False"
   ]
  },
  {
   "cell_type": "code",
   "execution_count": null,
   "metadata": {},
   "outputs": [],
   "source": [
    "print(not(x>2 or y>2)) #False because x>2 or y>2 is True"
   ]
  },
  {
   "cell_type": "code",
   "execution_count": null,
   "metadata": {},
   "outputs": [],
   "source": [
    "print(x or y) #4 because x is True (non-zero) so no need to evaluate y. Value of x is returned"
   ]
  },
  {
   "cell_type": "code",
   "execution_count": null,
   "metadata": {},
   "outputs": [],
   "source": [
    "print(x and 0+3) #3 because x is non-zero but need to check the second operand as well. That evaluates to 3"
   ]
  },
  {
   "cell_type": "code",
   "execution_count": 14,
   "metadata": {},
   "outputs": [
    {
     "name": "stdout",
     "output_type": "stream",
     "text": [
      "1 True\n",
      "92 False\n",
      "3 True\n",
      "4 False\n",
      "5 True\n",
      "6 True\n",
      "7 False\n",
      "8 True\n",
      "9 False\n"
     ]
    }
   ],
   "source": [
    "a = 6\n",
    "b = 7\n",
    "c = 42\n",
    "print (1, a == 6)\n",
    "print (92, a == 7)\n",
    "print (3, a == 6 and b == 7)\n",
    "print (4, a == 7 and b == 7)\n",
    "print (5, not a == 7 and b == 7)\n",
    "print (6, a == 7 or b == 7)\n",
    "print (7, a == 7 or b == 6)\n",
    "print (8, not (a == 7 and b == 6))\n",
    "print (9, not a == 7 and b == 6)"
   ]
  },
  {
   "cell_type": "markdown",
   "metadata": {},
   "source": [
    "**Conditional Statements**\n",
    "\n",
    "**If-statement**\n",
    "\n",
    "The if statement is used to check a condition: if the condition is true, we run a block of statements (called the if-block), else we process another block of statements (called the else-block). The else clause is optional."
   ]
  },
  {
   "cell_type": "code",
   "execution_count": 15,
   "metadata": {},
   "outputs": [
    {
     "name": "stdout",
     "output_type": "stream",
     "text": [
      "else\n"
     ]
    }
   ],
   "source": [
    "a = 20\n",
    "if a >= 22:\n",
    "\n",
    "   print(\"if\")\n",
    "elif a >= 21:\n",
    "   print(\"elif\")\n",
    "else:\n",
    "   print(\"else\")"
   ]
  },
  {
   "cell_type": "markdown",
   "metadata": {},
   "source": [
    "**Controling Execution**"
   ]
  },
  {
   "cell_type": "code",
   "execution_count": null,
   "metadata": {},
   "outputs": [],
   "source": [
    "x = int(input(\"Enter an integer: \"))\n",
    "y = int(input(\"Enter a second integer\"))\n",
    "if x%y == 0:\n",
    "    print(x,\"is divisible by\",y) #This block will execute if the remainder of x/y is zero\n",
    "else:\n",
    "    print(x,\"is not divisible by\",y)"
   ]
  },
  {
   "cell_type": "code",
   "execution_count": null,
   "metadata": {},
   "outputs": [],
   "source": [
    "purchase_price = float(input(\"Enter the purchase price of the stock: \"))\n",
    "price_now = float(input(\"Enter the current price of the stock: \"))\n",
    "if price_now < purchase_price * 0.9:\n",
    "    print(\"STOP LOSS: Sell the stock! \")\n",
    "elif price_now > purchase_price * 1.2:\n",
    "    print(\"PROFIT TAKING: Sell the stock!\")\n",
    "else:\n",
    "    print(\"HOLD: Don't do anything!\")"
   ]
  },
  {
   "cell_type": "code",
   "execution_count": null,
   "metadata": {},
   "outputs": [],
   "source": [
    "purchase_price = float(input(\"Enter the purchase price of the stock: \"))\n",
    "price_now = float(input(\"Enter the current price of the stock: \"))\n",
    "if price_now < purchase_price * 0.9:\n",
    "    print(\"STOP LOSS: Sell the stock! \")\n",
    "    print(\"You've lost\",purchase_price-price_now,\"Dollars per share\")\n",
    "elif price_now > purchase_price * 1.2:\n",
    "    print(\"PROFIT TAKING: Sell the stock!\")\n",
    "    print(\"You've gained\",price_now-purchase_price,\"Dollars per share\")\n",
    "\n",
    "else:\n",
    "    print(\"HOLD: Don't do anything!\")\n",
    "    print(\"Your unrealized profit is\",price_now-purchase_price,\"Dollars per share\")\n",
    "print(\"Hope you enjoyed this program!\")"
   ]
  },
  {
   "cell_type": "markdown",
   "metadata": {},
   "source": [
    "**While-statement**\n",
    "\n",
    "The while statement allows you to repeatedly execute a block of statements as long as a condition is true. A while statement is an example of what is called a looping statement. A while statement can have an optional else clause."
   ]
  },
  {
   "cell_type": "code",
   "execution_count": 4,
   "metadata": {},
   "outputs": [
    {
     "name": "stdout",
     "output_type": "stream",
     "text": [
      "The count is: 0\n",
      "The count is: 1\n",
      "The count is: 2\n",
      "The count is: 3\n",
      "The count is: 4\n",
      "The count is: 5\n",
      "The count is: 6\n",
      "The count is: 7\n",
      "The count is: 8\n",
      "End of while loop!\n"
     ]
    }
   ],
   "source": [
    "count = 0\n",
    "while (count < 9):\n",
    "   print ('The count is:', count)\n",
    "   count = count + 1\n",
    "\n",
    "print (\"End of while loop!\")"
   ]
  },
  {
   "cell_type": "markdown",
   "metadata": {},
   "source": [
    "**For-statement**\n",
    "\n",
    "The for..in statement is another looping statement which iterates over a sequence of objects i.e. go through each item in a sequence. A sequence is just an ordered collection of items."
   ]
  },
  {
   "cell_type": "code",
   "execution_count": 5,
   "metadata": {},
   "outputs": [
    {
     "name": "stdout",
     "output_type": "stream",
     "text": [
      "1\n"
     ]
    }
   ],
   "source": [
    "for i in range(1,5,2):\n",
    "    print (i)\n",
    "    break\n",
    "else:\n",
    "   print (\"The for loop is over\")"
   ]
  },
  {
   "cell_type": "markdown",
   "metadata": {},
   "source": [
    "**Break statement**\n",
    "\n",
    "The break statement is used to break out of a loop statement i.e. stop the execution of a looping statement, even if the loop condition has not become False or the sequence of items has not been completely iterated over.\n",
    "\n",
    "An important note is that if you break out of a for or while loop, any corresponding loop else block is not executed."
   ]
  },
  {
   "cell_type": "code",
   "execution_count": 6,
   "metadata": {},
   "outputs": [
    {
     "name": "stdout",
     "output_type": "stream",
     "text": [
      "1\n",
      "2\n",
      "3\n",
      "4\n",
      "Done\n"
     ]
    }
   ],
   "source": [
    "for i in range(1,10):\n",
    "       if i == 5:\n",
    "           break\n",
    "       print (i)\n",
    "print('Done')"
   ]
  },
  {
   "cell_type": "markdown",
   "metadata": {},
   "source": [
    "**Common Conditional and Looping Usage**"
   ]
  },
  {
   "cell_type": "code",
   "execution_count": 16,
   "metadata": {},
   "outputs": [
    {
     "name": "stdout",
     "output_type": "stream",
     "text": [
      "Enter x:3\n",
      "3 is a factor\n"
     ]
    }
   ],
   "source": [
    "# Determine factors by checking for a remainder using modulo (%)\n",
    "\n",
    "x = int(input(\"Enter x:\"))\n",
    "if x%3 == 0 :\n",
    "    print (\"3 is a factor\")\n",
    "\n",
    "if x%7 == 0 :\n",
    "    print (\"7 is a factor\")\n",
    "    \n",
    "if x%11 == 0 :\n",
    "    print (\"11 is a factor\")"
   ]
  },
  {
   "cell_type": "code",
   "execution_count": 17,
   "metadata": {},
   "outputs": [
    {
     "name": "stdout",
     "output_type": "stream",
     "text": [
      "please enter the number1:2\n",
      "please enter the number2:2\n",
      "please enter the number3:2\n",
      "2 ,2 and 2 are all equals\n"
     ]
    }
   ],
   "source": [
    "# finding out the largest numbers\n",
    "# logical and operation\n",
    "\n",
    "num1 = input(\"please enter the number1:\")\n",
    "num2 = input(\"please enter the number2:\")\n",
    "num3 = input(\"please enter the number3:\")\n",
    "\n",
    "if num1 > num2 and num1 > num3:\n",
    "    print (\"{0} is greater than {1} and {2}\".format(num1,num2,num3))\n",
    "elif num2 > num1 and num2 > num3:\n",
    "    print (\"{1} is greater than {0} and {2}\".format(num1,num2,num3))\n",
    "elif num3 > num1 and num3 > num2:\n",
    "    print (\"{2} is greater than {1} and {0}\".format(num1,num2,num3))\n",
    "else:\n",
    "    print (\"{0} ,{1} and {2} are all equals\".format(num1,num2,num3))"
   ]
  },
  {
   "cell_type": "code",
   "execution_count": 18,
   "metadata": {},
   "outputs": [
    {
     "name": "stdout",
     "output_type": "stream",
     "text": [
      "Enter x:3\n",
      "59049\n"
     ]
    }
   ],
   "source": [
    "#Math for math operations\n",
    "\n",
    "x = int(input(\"Enter x:\"))\n",
    "if x%2 == 0:   #even number check\n",
    "    print (x**2) \n",
    "else:\n",
    "    if x%5 == 0: #multiple of five check\n",
    "        print (x**3)\n",
    "    else: # if non of the ifs are true, else gets executed\n",
    "        print (x**10)"
   ]
  },
  {
   "cell_type": "code",
   "execution_count": null,
   "metadata": {},
   "outputs": [],
   "source": [
    "# Count number of multiples of 3 below 100\n",
    "i = 1\n",
    "c = 0\n",
    "while i <= 100:\n",
    "    if i%3 == 0: #multiples of 3\n",
    "        c += 1   #counting the multiples of three where the remainder when divided is ==0\n",
    "    i += 1       #count 1-100\n",
    "print (\"Number of multiples of 3 below 100 : \", c)\n",
    "\n",
    "#qn: Sum of the multiples of 3 below 10"
   ]
  },
  {
   "cell_type": "code",
   "execution_count": null,
   "metadata": {},
   "outputs": [],
   "source": [
    "# Multiples of n below 100\n",
    "n = int(input(\"Enter n value:\"))\n",
    "i = 1\n",
    "while i <= 100:\n",
    "    if i%n == 0:\n",
    "        print (i)\n",
    "    i+=1"
   ]
  },
  {
   "cell_type": "code",
   "execution_count": 19,
   "metadata": {},
   "outputs": [
    {
     "name": "stdout",
     "output_type": "stream",
     "text": [
      "Enter x:9\n",
      "3\n",
      "9\n"
     ]
    }
   ],
   "source": [
    "# printing factors of a given number which are multiples of 3\n",
    "x = int(input(\"Enter x:\"))\n",
    "i = 1\n",
    "while i <= x:\n",
    "    if x%i ==0 and i%3 == 0:\n",
    "        print (i)\n",
    "    i+=1"
   ]
  },
  {
   "cell_type": "code",
   "execution_count": 20,
   "metadata": {},
   "outputs": [],
   "source": [
    "# Infinite loops --> Be cautious about infinite loops\n",
    "\n",
    "#flag = 1\n",
    "\n",
    "#while (flag): print 'Given flag is really true!'"
   ]
  },
  {
   "cell_type": "code",
   "execution_count": 21,
   "metadata": {},
   "outputs": [
    {
     "name": "stdout",
     "output_type": "stream",
     "text": [
      "p\n",
      "y\n",
      "t\n",
      "h\n",
      "o\n",
      "n\n"
     ]
    }
   ],
   "source": [
    "my_string=\"python\"\n",
    "\n",
    "for i in my_string:  #python automatically iterates over each character in a string\n",
    "    print (i)"
   ]
  },
  {
   "cell_type": "code",
   "execution_count": 22,
   "metadata": {},
   "outputs": [
    {
     "name": "stdout",
     "output_type": "stream",
     "text": [
      "Linux\n",
      "mysql\n",
      "python\n",
      "django\n"
     ]
    }
   ],
   "source": [
    "# Tuples/list of values\n",
    "for value in ['Linux','mysql','python','django']: #same as above for a list\n",
    "    print (value)"
   ]
  },
  {
   "cell_type": "code",
   "execution_count": 23,
   "metadata": {},
   "outputs": [
    {
     "name": "stdout",
     "output_type": "stream",
     "text": [
      "Linux\n",
      "mysql\n",
      "python\n",
      "django\n"
     ]
    }
   ],
   "source": [
    "abc = ['Linux','mysql','python','django']\n",
    "\n",
    "for value in abc:\n",
    "    print (value)"
   ]
  },
  {
   "cell_type": "markdown",
   "metadata": {},
   "source": [
    "#### Using range() function in for loops\n",
    "range() is a function which constructs and returns a list with the given range.<br>\n",
    "\n",
    "Syntax:\n",
    "```python\n",
    "range(start, end, step)\n",
    "```"
   ]
  },
  {
   "cell_type": "code",
   "execution_count": 24,
   "metadata": {},
   "outputs": [
    {
     "name": "stdout",
     "output_type": "stream",
     "text": [
      "0\n",
      "1\n",
      "2\n",
      "3\n",
      "4\n",
      "5\n"
     ]
    }
   ],
   "source": [
    "for value in range(0,6): #default increments by 1. avoids manual incrementing\n",
    "    print (value)"
   ]
  },
  {
   "cell_type": "code",
   "execution_count": 25,
   "metadata": {},
   "outputs": [
    {
     "name": "stdout",
     "output_type": "stream",
     "text": [
      "2\n",
      "4\n",
      "6\n",
      "8\n",
      "10\n"
     ]
    }
   ],
   "source": [
    "for value in range(2,11,2):                   # range(Starting pos, end position, step)\n",
    "    print (value)"
   ]
  },
  {
   "cell_type": "code",
   "execution_count": 26,
   "metadata": {},
   "outputs": [
    {
     "name": "stdout",
     "output_type": "stream",
     "text": [
      "1\n",
      "4\n",
      "9\n",
      "16\n",
      "25\n",
      "25\n"
     ]
    }
   ],
   "source": [
    "# sum of odd numbers below 10\n",
    "s = 0\n",
    "for x in range(1,11,2):\n",
    "    s += x\n",
    "    print (s) #prints incrementals\n",
    "print (s)   #prints the total of the function, since the print statement is out of loop\n",
    "\n",
    "# Qn: Product?"
   ]
  },
  {
   "cell_type": "markdown",
   "metadata": {},
   "source": [
    "##### Break:\n",
    "break statement breaks the execution of while or for loops, control trnasfered to immediate next statement of the loop. Refer the below example."
   ]
  },
  {
   "cell_type": "code",
   "execution_count": null,
   "metadata": {},
   "outputs": [],
   "source": [
    "# Understanding the continue, break, pass\n",
    "# exam results\n",
    "for student in ('eric','joe','monika','kumar','rachel','shekar','panda'):\n",
    "    if student == 'monika':  #conditional break statement with a loop <monika breaks the loop>\n",
    "        #continue\n",
    "        break\n",
    "        #pass\n",
    "    print (\"report card for - {}\".format(student)) # {}\".format(student), {} w/in the print stmt expects the .format notation\n",
    "    \n",
    "my_string = \"I am out of loop\"\n",
    "print(my_string)"
   ]
  },
  {
   "cell_type": "markdown",
   "metadata": {},
   "source": [
    "##### Continue:\n",
    "continue skips the execution to next iteration of the loop."
   ]
  },
  {
   "cell_type": "code",
   "execution_count": 27,
   "metadata": {},
   "outputs": [
    {
     "name": "stdout",
     "output_type": "stream",
     "text": [
      "report card for - eric\n",
      "report card for - joe\n",
      "report card for - kumar\n",
      "report card for - rachel\n",
      "report card for - shekar\n",
      "report card for - panda\n",
      "I am out of loop\n"
     ]
    }
   ],
   "source": [
    "# Understanding the continue, break, pass\n",
    "# exam results\n",
    "for student in ('eric','joe','monika','kumar','rachel','shekar','panda'):\n",
    "    if student == 'monika':\n",
    "        continue   #continue moves over the element in the conditional statement and continues on to the next until the end\n",
    "        #break\n",
    "        #pass\n",
    "    print (\"report card for - {}\".format(student))\n",
    "    \n",
    "my_string = \"I am out of loop\"\n",
    "print(my_string)"
   ]
  },
  {
   "cell_type": "code",
   "execution_count": 28,
   "metadata": {},
   "outputs": [
    {
     "name": "stdout",
     "output_type": "stream",
     "text": [
      "report card for - eric\n",
      "report card for - joe\n",
      "report card for - monika\n",
      "report card for - kumar\n",
      "report card for - rachel\n",
      "report card for - shekar\n",
      "report card for - panda\n",
      "I am out of loop\n"
     ]
    }
   ],
   "source": [
    "# Understanding the continue, break, pass\n",
    "# exam results\n",
    "for student in ('eric','joe','monika','kumar','rachel','shekar','panda'):\n",
    "    if student == 'monika':\n",
    "        #continue           \n",
    "        #break\n",
    "        pass     #more for conditional code check to skip over a particular condition for error isolation\n",
    "    print (\"report card for - {}\".format(student))\n",
    "    \n",
    "my_string = \"I am out of loop\"\n",
    "print(my_string)"
   ]
  },
  {
   "cell_type": "markdown",
   "metadata": {},
   "source": [
    "##### for-else\n",
    "'else' block gets executed on the successfull completion of for loop"
   ]
  },
  {
   "cell_type": "code",
   "execution_count": 29,
   "metadata": {},
   "outputs": [
    {
     "name": "stdout",
     "output_type": "stream",
     "text": [
      "Enter Value:43\n",
      "Prime\n"
     ]
    }
   ],
   "source": [
    "from math import sqrt\n",
    "n = int(input(\"Enter Value:\"))\n",
    "for i in range(2,int(sqrt(n))+1):\n",
    "               if n%i == 0:\n",
    "                   print (\"Not Prime\")\n",
    "                   break\n",
    "else:\n",
    "    print (\"Prime\")"
   ]
  },
  {
   "cell_type": "code",
   "execution_count": 31,
   "metadata": {},
   "outputs": [
    {
     "name": "stdout",
     "output_type": "stream",
     "text": [
      "Enter value to search for:8\n",
      "8 is present\n"
     ]
    }
   ],
   "source": [
    "## binary search - search and sort alg for lists, tuple, dictionaries\n",
    "\n",
    "l = [2, 3, 4, 5, 5, 6, 7, 8, 9, 11]\n",
    "key = int(input(\"Enter value to search for:\"))\n",
    "i = 0\n",
    "j = len(l)-1 #'len' counts the number of element in the list\n",
    "\n",
    "found = False\n",
    "\n",
    "while i < j:\n",
    "    mid = int((i + j)/2) #j=10 (length of list), i =0\n",
    "    if l[mid] == key:    #[mid] = 4.5 rounded down to 4. Python always rounds down.\n",
    "        found = True     \n",
    "        break\n",
    "    else:\n",
    "        if key > l[mid]:\n",
    "            i = mid + 1\n",
    "        else:\n",
    "            j = mid -1\n",
    "    \n",
    "if found: #python automatically know 'if found' mean 'if found = True' \n",
    "    print (\"{} is present\".format(key))\n",
    "else:\n",
    "    print (\"{} not found\".format(key))"
   ]
  },
  {
   "cell_type": "code",
   "execution_count": null,
   "metadata": {},
   "outputs": [],
   "source": []
  }
 ],
 "metadata": {
  "kernelspec": {
   "display_name": "Python 3",
   "language": "python",
   "name": "python3"
  },
  "language_info": {
   "codemirror_mode": {
    "name": "ipython",
    "version": 3
   },
   "file_extension": ".py",
   "mimetype": "text/x-python",
   "name": "python",
   "nbconvert_exporter": "python",
   "pygments_lexer": "ipython3",
   "version": "3.7.6"
  }
 },
 "nbformat": 4,
 "nbformat_minor": 4
}
