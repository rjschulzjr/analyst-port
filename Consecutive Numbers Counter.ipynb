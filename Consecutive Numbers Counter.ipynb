{
 "cells": [
  {
   "cell_type": "code",
   "execution_count": null,
   "metadata": {},
   "outputs": [],
   "source": [
    "\n",
    "list = []\n",
    "def findMaxConsecutiveOnes(nums):\n",
    "    for i in range(len(nums)):\n",
    "        for j in range(i+1, len(nums)):\n",
    "            while i == j:\n",
    "                count = count + 1\n",
    "                print(count)\n",
    "                list.append(count)\n",
    "                print(list)\n",
    "                return list.max()"
   ]
  },
  {
   "cell_type": "code",
   "execution_count": null,
   "metadata": {},
   "outputs": [],
   "source": [
    "sample = [1,1,0,1,1,1]\n",
    "findMaxConsecutiveOnes(sample)"
   ]
  },
  {
   "cell_type": "code",
   "execution_count": null,
   "metadata": {},
   "outputs": [],
   "source": [
    "nums=[3,3]\n",
    "val = 3\n",
    "for x in nums:\n",
    "    if x == val:\n",
    "        nums.remove(x)\n",
    "    if nums[-1] == val:\n",
    "        nums.remove(nums[-1])\n",
    "    elif nums[0] == val:\n",
    "        nums.remove(nums[0])\n",
    "    print(nums)"
   ]
  },
  {
   "cell_type": "code",
   "execution_count": 5,
   "metadata": {},
   "outputs": [
    {
     "name": "stdout",
     "output_type": "stream",
     "text": [
      "0\n",
      "1\n",
      "2\n",
      "10 5\n",
      "3\n",
      "1\n",
      "2\n",
      "3\n",
      "2\n",
      "3\n",
      "3\n"
     ]
    },
    {
     "ename": "SyntaxError",
     "evalue": "'return' outside function (<ipython-input-5-7722d95e700a>, line 8)",
     "output_type": "error",
     "traceback": [
      "\u001b[1;36m  File \u001b[1;32m\"<ipython-input-5-7722d95e700a>\"\u001b[1;36m, line \u001b[1;32m8\u001b[0m\n\u001b[1;33m    return True\u001b[0m\n\u001b[1;37m               ^\u001b[0m\n\u001b[1;31mSyntaxError\u001b[0m\u001b[1;31m:\u001b[0m 'return' outside function\n"
     ]
    }
   ],
   "source": [
    "arr = [10, 1, 5, 7]\n",
    "for n in range(len(arr)):\n",
    "    print(n)\n",
    "    for m in range(n+1, len(arr)):\n",
    "        print(m)\n",
    "        if arr[n] == 2 * arr[m]:\n",
    "            print(arr[n],arr[m])\n",
    "return True\n",
    "                "
   ]
  },
  {
   "cell_type": "code",
   "execution_count": null,
   "metadata": {},
   "outputs": [],
   "source": []
  }
 ],
 "metadata": {
  "kernelspec": {
   "display_name": "Python 3",
   "language": "python",
   "name": "python3"
  },
  "language_info": {
   "codemirror_mode": {
    "name": "ipython",
    "version": 3
   },
   "file_extension": ".py",
   "mimetype": "text/x-python",
   "name": "python",
   "nbconvert_exporter": "python",
   "pygments_lexer": "ipython3",
   "version": "3.7.6"
  }
 },
 "nbformat": 4,
 "nbformat_minor": 4
}
