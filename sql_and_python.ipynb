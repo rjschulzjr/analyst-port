{
 "cells": [
  {
   "cell_type": "markdown",
   "metadata": {},
   "source": [
    "<h1>Python and MySQL</h1>"
   ]
  },
  {
   "cell_type": "markdown",
   "metadata": {},
   "source": [
    "<h2>First import the python module containing the API</h2>"
   ]
  },
  {
   "cell_type": "code",
   "execution_count": 22,
   "metadata": {},
   "outputs": [],
   "source": [
    "import pymysql"
   ]
  },
  {
   "cell_type": "markdown",
   "metadata": {},
   "source": [
    "<h2>Set up a connection and create a cursor object</h2>"
   ]
  },
  {
   "cell_type": "code",
   "execution_count": 23,
   "metadata": {},
   "outputs": [],
   "source": [
    "db = pymysql.connect(\"localhost\",\"root\",\"sprintX1!\" ,database=\"schooldb\") # IE - (URL for dbase, userid, your password to the dbase, dbase name)\n",
    "cursor = db.cursor() #tells where your command is going to be placed to using the cursor\n",
    "\n",
    "#create connections for multiple dbases, files, etc. and give them a cursor object, too"
   ]
  },
  {
   "cell_type": "markdown",
   "metadata": {},
   "source": [
    "<h2>Execute a query and get the results</h2>"
   ]
  },
  {
   "cell_type": "code",
   "execution_count": 24,
   "metadata": {},
   "outputs": [
    {
     "data": {
      "text/plain": [
       "(('course',), ('enrolls_in',), ('student',))"
      ]
     },
     "execution_count": 24,
     "metadata": {},
     "output_type": "execute_result"
    }
   ],
   "source": [
    "cursor.execute('show tables;')\n",
    "cursor.fetchall()\n",
    "               "
   ]
  },
  {
   "cell_type": "code",
   "execution_count": 25,
   "metadata": {},
   "outputs": [
    {
     "name": "stdout",
     "output_type": "stream",
     "text": [
      "(('Data analytics', 93.0), ('Python', 95.0))\n"
     ]
    }
   ],
   "source": [
    "query = \"\"\"\n",
    "SELECT course.name, enrolls_in.score FROM student \n",
    "INNER JOIN enrolls_in ON student.ssn = enrolls_in.ssn \n",
    "INNER JOIN course ON course.number = enrolls_in.class\n",
    "WHERE f_name = \"JOHN\";\n",
    "\"\"\"\n",
    "cursor.execute(query)\n",
    "result = cursor.fetchall()     # result using 'fetchall' returns Tuples\n",
    "print(result)"
   ]
  },
  {
   "cell_type": "code",
   "execution_count": 26,
   "metadata": {},
   "outputs": [
    {
     "name": "stdout",
     "output_type": "stream",
     "text": [
      "course name\tscore\n",
      "Data analytics\t93.0\n",
      "Python\t95.0\n"
     ]
    }
   ],
   "source": [
    "print (\"course name\", \"score\", sep='\\t')\n",
    "for i in result:\n",
    "    print(i[0], i[1], sep='\\t')"
   ]
  },
  {
   "cell_type": "code",
   "execution_count": 27,
   "metadata": {},
   "outputs": [],
   "source": [
    "#insert a record: follow table layout and end w/ semi colon. Use explicit quotes \"\"\n",
    "query = 'INSERT INTO Student VALUES (\"025-55-5555\", \"Schulz\", \"Ron\", \"1234567890\", \"San Deigo\");'\n",
    "#NOTE: this will not show up if you query directly in mySQL b/c this insert is specfic to the client\n",
    "#Python in this case You need to commit the change after you insert to make it show up in mySQL)"
   ]
  },
  {
   "cell_type": "code",
   "execution_count": 28,
   "metadata": {},
   "outputs": [
    {
     "data": {
      "text/plain": [
       "(('111-22-3333', 'JOHN', 'CHILDS', '6461231212', 'New York', '10025'),\n",
       " ('123-12-1234', 'Mary', 'Arias', None, 'New York', '10011'),\n",
       " ('222-33-4455', 'Lila', 'Pennington', '4251231212', 'Seattle', '98105'),\n",
       " ('555-11-7777', 'Roberto', 'Perez', '9173335479', 'San Francisco', '94110'))"
      ]
     },
     "execution_count": 28,
     "metadata": {},
     "output_type": "execute_result"
    }
   ],
   "source": [
    "query = 'Select * from Student;'\n",
    "cursor.execute(query)\n",
    "cursor.fetchall()\n"
   ]
  },
  {
   "cell_type": "code",
   "execution_count": 29,
   "metadata": {},
   "outputs": [],
   "source": [
    "db.commit()"
   ]
  },
  {
   "cell_type": "code",
   "execution_count": null,
   "metadata": {},
   "outputs": [],
   "source": []
  }
 ],
 "metadata": {
  "anaconda-cloud": {},
  "kernelspec": {
   "display_name": "Python 3",
   "language": "python",
   "name": "python3"
  },
  "language_info": {
   "codemirror_mode": {
    "name": "ipython",
    "version": 3
   },
   "file_extension": ".py",
   "mimetype": "text/x-python",
   "name": "python",
   "nbconvert_exporter": "python",
   "pygments_lexer": "ipython3",
   "version": "3.7.6"
  }
 },
 "nbformat": 4,
 "nbformat_minor": 1
}
