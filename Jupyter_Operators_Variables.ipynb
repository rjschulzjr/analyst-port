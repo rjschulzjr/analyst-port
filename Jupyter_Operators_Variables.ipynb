{
 "cells": [
  {
   "cell_type": "markdown",
   "metadata": {},
   "source": [
    "### Index:\n",
    "\n",
    "- [Introduction to Jupyter Notebook](#Jupyter-Intro)\n",
    "- [Onto Python, starting with Math Operators:](#Math-Ops)"
   ]
  },
  {
   "cell_type": "markdown",
   "metadata": {},
   "source": [
    "<a id = \"jupyter\"></a>\n",
    "### Introduction to Jupyter Notebook\n",
    "\n",
    "If you are reading this line, it hopefully means you have successfully opened up a `Jupyter Notebook`. If you are simply viewing this notebook and do not have a `Python 3` Kernel running [and do not see something like this:\n",
    "![Kernel](./assets/Kernel.PNG)\n",
    "on the upper right corner of your screen] seek technical help!\n",
    "\n",
    "`Jupyter Notebook` offers plenty of functionality which can be extended with plug-ins and and other modifications, but this lesson will only review basic functionality.  \n",
    "\n",
    "\n",
    "First: what are we looking at? \n",
    "Below is an empty code cell"
   ]
  },
  {
   "cell_type": "code",
   "execution_count": null,
   "metadata": {},
   "outputs": [],
   "source": []
  },
  {
   "cell_type": "markdown",
   "metadata": {},
   "source": [
    "Note the `In [ ]` to its left - thats the clearest indication that a cell is ready to read and execute code.  \n",
    "\n",
    "*These* words, on the other hand, are appearing in a `markdown` cell. Below is an empty `markdown` cell, and below that is an empty `markdown` cell that has been executed."
   ]
  },
  {
   "cell_type": "markdown",
   "metadata": {},
   "source": []
  },
  {
   "cell_type": "markdown",
   "metadata": {},
   "source": [
    "This is going to be fun."
   ]
  },
  {
   "cell_type": "markdown",
   "metadata": {},
   "source": [
    "`Markdown` cells can be used to integrate text, figures, etc. into your code. It is also possible to use `LaTeX` in `markdown` cells to control formatting.  \n",
    "\n",
    "When navigating through the various cells in a `Notebook`, you will use two modes: `Command Mode` and `Edit Mode`.  \n",
    "\n",
    "In `Command Mode`, cells will feature a blue border:\n",
    "![cmd](./assets/Command.PNG)  \n",
    "\n",
    "`Edit Mode` features a green border:\n",
    "![edit](./assets/Edit.PNG)\n",
    "\n",
    "While in `Command Mode`, double-clicking on a cell or hitting `enter` will activate `Edit Mode`. In `Edit Mode`, hitting `esc` returns to command mode.  \n",
    "\n",
    "A full list of keyboard shortcuts available in both `Command` and `Edit` modes can be found under the `<Help>` menu at the top of your screen. Alternatively, the list can be accessed by hitting `<h>` while in `Command Mode`.  \n",
    "\n",
    "A few important `Command Mode` shortcuts:  \n",
    "- `<a>` creates a new cell [a]bove the current cell\n",
    "- `<b>` creates a new cell [b]elow the current cell  \n",
    "- `<x>, <c>, <v>` will cut, copy and paste cells (mutiple cells selected with `<shift-click>`\n",
    "- `<d , d>` will delete the selected cell(s)\n",
    "- `<s>` or `<ctrl-s>` will save the notebook  \n",
    "- `<i , i>` will interrupt the current process [e.g. when a process is taking too long or there is some issue]  \n",
    "\n",
    "In `Edit Mode` the important shortcuts are:\n",
    "- `<ctrl-enter>` runs the current cell.\n",
    "- `<shift-enter>` runs the current cell and highlights the next cell.\n",
    "- `<alt-enter>` runs the current cell and creates a new cell below.\n",
    "\n",
    "For example, using this cell practice switching between `Command` and `Edit` mode; Running the cell, and creating new cells.  \n",
    "\n",
    "---\n",
    "During execution of a cell you will see the `In [ ]` change to:\n",
    "![running](./assets/Running.PNG)  \n",
    "\n",
    "And after completion, the number next to the `In` will increment:\n",
    "![run](./assets/Run.PNG)\n",
    "\n",
    "Indicating a cell has run."
   ]
  },
  {
   "cell_type": "markdown",
   "metadata": {},
   "source": [
    "<a id = \"python\"></a>\n",
    "### Onto Python, starting with Math Operators:\n",
    "\n",
    "Python can simply be thought of as a big calculator. As a calculator, it features a number of built-in operators:\n",
    "\n",
    "- `+` for addition\n",
    "- `-` for subtraction\n",
    "- `*` for multiplication\n",
    "- `/` for division\n",
    "- `**` for exponents, e.g. `2**4` is $2^4$  \n",
    "- `//` for floor division e.g.  `9/4 = 2.25; 9//4 = 2; 9/2 = 4.5, 9//2 = 4`\n",
    "- `%` as the modulo operator. e.g. `9%3 = 0; 9%2 = 1; 9%4 = 1; 9%5 = 4` e.g. - n1%n2 returns the remainder from n1/n2\n",
    "\n",
    "Run (`<ctrl-enter> or <shift-enter>`) the below  cell for an example:"
   ]
  },
  {
   "cell_type": "code",
   "execution_count": 63,
   "metadata": {},
   "outputs": [
    {
     "data": {
      "text/plain": [
       "(4, -2, 15.600000000000001, 4.5, 4, 16)"
      ]
     },
     "execution_count": 63,
     "metadata": {},
     "output_type": "execute_result"
    }
   ],
   "source": [
    "2+2, 1-3, 5.2*3, 9/2, 9//2, 2**4"
   ]
  },
  {
   "cell_type": "markdown",
   "metadata": {},
   "source": [
    "Python can also print out messages to the \"console\" using the `print()` command.  \n",
    "Run the following:"
   ]
  },
  {
   "cell_type": "code",
   "execution_count": 3,
   "metadata": {},
   "outputs": [
    {
     "name": "stdout",
     "output_type": "stream",
     "text": [
      "Hello world\n",
      "Well hello to you too!\n"
     ]
    },
    {
     "data": {
      "text/plain": [
       "\"What's next\""
      ]
     },
     "execution_count": 3,
     "metadata": {},
     "output_type": "execute_result"
    }
   ],
   "source": [
    "print(\"Hello world\")\n",
    "print(\"Well hello to you too!\")\n",
    "\"What's next\""
   ]
  },
  {
   "cell_type": "markdown",
   "metadata": {},
   "source": [
    "The top two lines (\"Hello world\", and \"Well hello...\") are both wrapped in `print()` statements -- This means Python has been told to print each to the console.  \n",
    "\"What's next\" is **not** in a `print()` statement, yet, it has appeared in our console -- Notice the `Out [19] ` appearing adjacent to \"What's next\". One of the convenience features of `Jupyter Notebook` (**not** Python) is that it will print out the *returned value* of the last line of a code cell.  \n",
    "Please run the below cell:"
   ]
  },
  {
   "cell_type": "code",
   "execution_count": 4,
   "metadata": {},
   "outputs": [
    {
     "name": "stdout",
     "output_type": "stream",
     "text": [
      "Hello world\n",
      "Well hello to you too!\n"
     ]
    }
   ],
   "source": [
    "print(\"Hello world\")\n",
    "\"What's next\"\n",
    "print(\"Well hello to you too!\")"
   ]
  },
  {
   "cell_type": "markdown",
   "metadata": {},
   "source": [
    "Notice that \"What's next\" does not print to the console, but the `Out[#]` has also disappeared. It is important to remember this difference between the behavior of *Python* and the behavior of *Jupyter Notebook*\n",
    "\n",
    "The four basic **types** in Python are `Integers`, `Floats`, `Strings` and `Booleans`. "
   ]
  },
  {
   "cell_type": "code",
   "execution_count": 5,
   "metadata": {},
   "outputs": [
    {
     "name": "stdout",
     "output_type": "stream",
     "text": [
      "7 is a  <class 'int'>\n",
      "7.1 is a  <class 'float'>\n",
      "Joe is a  <class 'str'>\n",
      "True is a  <class 'bool'>\n"
     ]
    }
   ],
   "source": [
    "print(7, \"is a \", type(7))\n",
    "print(7.1, \"is a \", type(7.1))\n",
    "print(\"Joe\", \"is a \", type(\"Joe\"))\n",
    "print(True, \"is a \", type(True))"
   ]
  },
  {
   "cell_type": "markdown",
   "metadata": {},
   "source": [
    "Notice the two \"primitve\" types of numbers: `int`egers and `float`ing point."
   ]
  },
  {
   "cell_type": "code",
   "execution_count": 65,
   "metadata": {},
   "outputs": [
    {
     "name": "stdout",
     "output_type": "stream",
     "text": [
      "6\n",
      "33\n"
     ]
    },
    {
     "data": {
      "text/plain": [
       "'25'"
      ]
     },
     "execution_count": 65,
     "metadata": {},
     "output_type": "execute_result"
    }
   ],
   "source": [
    "# Playing with numbers\n",
    "print (3 + 3)\n",
    "print ('3' + '3')\n",
    "25 * 25\n",
    "25 + 25 / 2\n",
    "(25 + 25)/2\n",
    "25/2.0\n",
    "25/2\n",
    "float(25)/2\n",
    "# float,int,str\n",
    "float(25)\n",
    "#Jupyter automatically prints the last statement\n",
    "str(25)\n",
    "#int('A')\n",
    "# BODMAS"
   ]
  },
  {
   "cell_type": "markdown",
   "metadata": {},
   "source": [
    "<a id = \"vars\"></a>\n",
    "### Variable assignment  \n",
    "\n",
    "Variables may be assigned (almost) any name by the user. There are a few [reserved words](https://www.google.com/search?client=opera&ei=a4q1W7juKua0jwS30ZO4BA&q=python+keywords+3.6+list&oq=python+keywords+3.6+list&gs_l=psy-ab.3..33i22i29i30l10.6879.7300..7427...0.0..0.180.641.1j4......0....1..gws-wiz.......0i22i30.FR38nCgXD0g) and [names of builtin functions](https://docs.python.org/3.6/library/functions.html) that cannot be used for variable names. In general, Python style guides suggest using `lower_case_words_connected_by_undersore_for_variable_names`.  \n",
    "\n",
    "Assignment in Python occurs using the `=` operator. As seen in the next cell"
   ]
  },
  {
   "cell_type": "code",
   "execution_count": 7,
   "metadata": {},
   "outputs": [
    {
     "name": "stdout",
     "output_type": "stream",
     "text": [
      "my_num =  1\n",
      "another_num =  1\n",
      "\n",
      "Changing my_num\n",
      "\n",
      "my_num =  2\n",
      "another_num =  1\n"
     ]
    }
   ],
   "source": [
    "my_num = 1\n",
    "another_num = my_num\n",
    "\n",
    "print(\"my_num = \", my_num)\n",
    "print(\"another_num = \", another_num)\n",
    "\n",
    "print(\"\\nChanging my_num\\n\")\n",
    "\n",
    "my_num = 2\n",
    "\n",
    "print(\"my_num = \", my_num)\n",
    "print(\"another_num = \", another_num)"
   ]
  },
  {
   "cell_type": "markdown",
   "metadata": {},
   "source": [
    "Notice here how changing the value of `my_num` did not change the value of `another_num`.  \n",
    "\n",
    "There are some cases where the changing of one variable *can* change the value of another variable. But, as a general rule, if a variable's value is changed using the `=` operator, everything should be safe. On the other hand if a variable's value is changed via a method (covered below) then it is possible that the values of multiple variables might change. \n",
    "\n",
    "**Data type conversion**\n",
    "\n",
    "+ Data from one type can be converted into another type using conversion operators.\n",
    "+ Comes in handy when data is not coded in proper format (number coded as string, date coded as string)\n",
    "+ int(variable) - converts variable to integer \n",
    "+ str(variable) - converts variable to string \n",
    "+ float(variable) - converts variable to float (number with decimal) \n",
    "\n",
    "Below we create one variable for each type of \"primitive\". Watch as the `floats` and `ints` are re-cast."
   ]
  },
  {
   "cell_type": "code",
   "execution_count": 8,
   "metadata": {},
   "outputs": [
    {
     "name": "stdout",
     "output_type": "stream",
     "text": [
      "my_float =  7.0 <class 'float'>\n",
      "my_float2 =  7.2 <class 'float'>\n",
      "my_int =  7 <class 'int'>\n",
      "my_float == my_float2?:  False\n",
      "my_int == my_float?:  True\n",
      "my_int == my_float2?:  False\n",
      "\n",
      "Recasting Numbers\n",
      "\n",
      "my_float =  7 <class 'int'>\n",
      "my_float2 =  7 <class 'int'>\n",
      "my_int =  7.0 <class 'float'>\n",
      "my_float == my_float2?:  True\n",
      "my_int == my_float?:  True\n",
      "my_int == my_float2?:  True\n"
     ]
    }
   ],
   "source": [
    "my_int = 7\n",
    "my_float = 7.0\n",
    "my_float2 = 7.2\n",
    "my_string = \"Joe\"\n",
    "my_bool = True\n",
    "\n",
    "print(\"my_float = \", my_float, type(my_float))\n",
    "print(\"my_float2 = \", my_float2, type(my_float2))\n",
    "print(\"my_int = \", my_int, type(my_int))\n",
    "print(\"my_float == my_float2?: \", my_float == my_float2)\n",
    "print(\"my_int == my_float?: \", my_int == my_float)\n",
    "print(\"my_int == my_float2?: \", my_int == my_float2)\n",
    "\n",
    "print('\\nRecasting Numbers\\n')\n",
    "my_float = int(my_float)\n",
    "my_float2 = int(my_float2)\n",
    "my_int = float(my_int)\n",
    "\n",
    "print(\"my_float = \", my_float, type(my_float))\n",
    "print(\"my_float2 = \", my_float2, type(my_float2))\n",
    "print(\"my_int = \", my_int, type(my_int))\n",
    "print(\"my_float == my_float2?: \", my_float == my_float2)\n",
    "print(\"my_int == my_float?: \", my_int == my_float)\n",
    "print(\"my_int == my_float2?: \", my_int == my_float2)"
   ]
  },
  {
   "cell_type": "markdown",
   "metadata": {},
   "source": [
    "`types` in Python (which as seen above can be found using the `type()` built-in function) are determined *dynamically*; this is to say that a single variable may have its type changed by the user.  \n",
    "\n",
    "The `my_float` and `my_float2` variables were *recast* to integers by wrapping the variable name in a call to the `int()` function.  \n",
    "\n",
    "Note how the comparison between the `floats` and `int` changed -- the recasting of `7.2` as an `int` changed it's value to a `7`, recasting the `7.0` as an `int` was also changed to `7`. It is important to remember that naive recasting *might* change an underlying value."
   ]
  },
  {
   "cell_type": "code",
   "execution_count": 6,
   "metadata": {},
   "outputs": [
    {
     "name": "stdout",
     "output_type": "stream",
     "text": [
      "<class 'int'>\n",
      "<class 'str'>\n",
      "<class 'int'>\n",
      "<class 'str'>\n"
     ]
    }
   ],
   "source": [
    "original = [10, 4]\n",
    "for i in original:\n",
    "    print(type(i))\n",
    "    i = str(i)\n",
    "    print(type(i))\n",
    "    "
   ]
  },
  {
   "cell_type": "markdown",
   "metadata": {},
   "source": [
    "#### Useful operators:\n",
    "\n",
    "Before departing from math, a note on some useful operators:\n",
    "\n",
    "- `x+=1 ` is the same as `x=x+1`\n",
    "- `x*=2` is the same as `x=x*2`\n",
    "- Same with `-` and `/`"
   ]
  },
  {
   "cell_type": "code",
   "execution_count": 12,
   "metadata": {},
   "outputs": [
    {
     "name": "stdout",
     "output_type": "stream",
     "text": [
      "3\n",
      "4\n",
      "5\n",
      "6\n",
      "7\n",
      "8\n",
      "9\n",
      "10\n"
     ]
    }
   ],
   "source": [
    "x = 2\n",
    "while x < 10:\n",
    "    x+=1\n",
    "    print(x)"
   ]
  },
  {
   "cell_type": "code",
   "execution_count": 13,
   "metadata": {},
   "outputs": [
    {
     "name": "stdout",
     "output_type": "stream",
     "text": [
      "3\n",
      "4\n",
      "5\n",
      "6\n",
      "7\n",
      "8\n",
      "9\n",
      "10\n"
     ]
    }
   ],
   "source": [
    "x = 2\n",
    "while x < 10:\n",
    "    x = x+1\n",
    "    print(x)"
   ]
  },
  {
   "cell_type": "markdown",
   "metadata": {},
   "source": [
    "<a id = \"strings\"></a>\n",
    "### Strings:\n",
    "\n",
    "The \"String\" primitive type in Python are denoted using either single `<'>` quotation or double `<\">` quotations marks."
   ]
  },
  {
   "cell_type": "code",
   "execution_count": 16,
   "metadata": {},
   "outputs": [
    {
     "name": "stdout",
     "output_type": "stream",
     "text": [
      "<class 'str'> <class 'str'> <class 'str'>\n"
     ]
    }
   ],
   "source": [
    "string1 = \"I'm a string\"\n",
    "string2 = 'Me too'\n",
    "string3 = str(3)\n",
    "\n",
    "print(type(string1), type(string2), type(string3))"
   ]
  },
  {
   "cell_type": "markdown",
   "metadata": {},
   "source": [
    "**String Usage**\n",
    "\n",
    "+ In addition to numerical data processing, Python has very strong string processing capabilities. \n",
    "+ Subsets of strings can be taken using the slice operator ( [ ] and [ : ] ) with indexes starting at 0 in the beginning of the string and working their way from -1 at the end.\n",
    "+ The plus ( + ) sign is the string concatenation operator and the asterisk ( * ) is the repetition operator.\n",
    "+ Strings in Python are immutable. Unlike other datasets such as lists, you cannot manipulate individual string values. In order to do so, you have to take subsets of strings and form a new string. \n",
    "+ A string can be converted to a numerical type and vice versa (wherever applicable). Many a times, raw data, although numeric, is coded in string format. This feature provides a clean way to make sure all of the data is in numeric form.\n",
    "+ Strings are sequence of characters and can be tokenized.\n",
    "+ Strings and numbers can also be formatted."
   ]
  },
  {
   "cell_type": "markdown",
   "metadata": {},
   "source": [
    "Strings feature both `indexing` support as well as a number of useful `methods`.  \n",
    "\n",
    "#### Indexing\n",
    "Indexing allows a user to return a subset of the characters from a string, specified within - `[]` - square brackets.  \n",
    "\n",
    "The simplest subset is a single letter"
   ]
  },
  {
   "cell_type": "code",
   "execution_count": 17,
   "metadata": {},
   "outputs": [
    {
     "name": "stdout",
     "output_type": "stream",
     "text": [
      "H\n",
      "e\n"
     ]
    }
   ],
   "source": [
    "print(\"Hi\"[0])\n",
    "print(\"Joe\"[2])"
   ]
  },
  {
   "cell_type": "markdown",
   "metadata": {},
   "source": [
    "Note how `\"Hi\"[0]` returned the first letter of \"Hi\" and `\"Joe\"[2]\"` returned the third letter of \"Joe\".  \n",
    "Python uses 0-based indexing, which means that the first letter is at `index 0`, the second letter is at `index 1`, and the final letter is at `index n-1` where `n` is the total number of letters.  "
   ]
  },
  {
   "cell_type": "code",
   "execution_count": 18,
   "metadata": {},
   "outputs": [],
   "source": [
    "x = \"Too many cooks spoil the broth.\""
   ]
  },
  {
   "cell_type": "code",
   "execution_count": 20,
   "metadata": {},
   "outputs": [
    {
     "data": {
      "text/plain": [
       "'m'"
      ]
     },
     "execution_count": 20,
     "metadata": {},
     "output_type": "execute_result"
    }
   ],
   "source": [
    "x[4] #Returns the 5th character in x, or (i+1) (see above 0-based indexing)"
   ]
  },
  {
   "cell_type": "code",
   "execution_count": 21,
   "metadata": {},
   "outputs": [
    {
     "data": {
      "text/plain": [
       "'.'"
      ]
     },
     "execution_count": 21,
     "metadata": {},
     "output_type": "execute_result"
    }
   ],
   "source": [
    "x[-1] #Returns the last character in a sting"
   ]
  },
  {
   "cell_type": "code",
   "execution_count": 22,
   "metadata": {},
   "outputs": [
    {
     "data": {
      "text/plain": [
       "'h'"
      ]
     },
     "execution_count": 22,
     "metadata": {},
     "output_type": "execute_result"
    }
   ],
   "source": [
    "x[-2] #Returns the second to last character in a string"
   ]
  },
  {
   "cell_type": "code",
   "execution_count": 23,
   "metadata": {},
   "outputs": [
    {
     "data": {
      "text/plain": [
       "31"
      ]
     },
     "execution_count": 23,
     "metadata": {},
     "output_type": "execute_result"
    }
   ],
   "source": [
    "len(x) #Returns the length of the string"
   ]
  },
  {
   "cell_type": "code",
   "execution_count": 25,
   "metadata": {},
   "outputs": [
    {
     "ename": "IndexError",
     "evalue": "string index out of range",
     "output_type": "error",
     "traceback": [
      "\u001b[1;31m---------------------------------------------------------------------------\u001b[0m",
      "\u001b[1;31mIndexError\u001b[0m                                Traceback (most recent call last)",
      "\u001b[1;32m<ipython-input-25-bc358da08fdf>\u001b[0m in \u001b[0;36m<module>\u001b[1;34m\u001b[0m\n\u001b[1;32m----> 1\u001b[1;33m \u001b[0mx\u001b[0m\u001b[1;33m[\u001b[0m\u001b[1;36m32\u001b[0m\u001b[1;33m]\u001b[0m \u001b[1;31m#Error on index greater than available\u001b[0m\u001b[1;33m\u001b[0m\u001b[1;33m\u001b[0m\u001b[0m\n\u001b[0m",
      "\u001b[1;31mIndexError\u001b[0m: string index out of range"
     ]
    }
   ],
   "source": [
    "x[32] #Error on index greater than available"
   ]
  },
  {
   "cell_type": "markdown",
   "metadata": {},
   "source": [
    "### Slicing"
   ]
  },
  {
   "cell_type": "code",
   "execution_count": 38,
   "metadata": {},
   "outputs": [
    {
     "name": "stdout",
     "output_type": "stream",
     "text": [
      "Pyt\n",
      "Pyt\n",
      "Pyt\n",
      "Pto\n",
      "tho\n",
      "nohtyP\n"
     ]
    }
   ],
   "source": [
    "my_string = \"Python\"\n",
    "print(\"Python\"[0:3])\n",
    "print(my_string[0:3])\n",
    "print(my_string[:3])\n",
    "print(my_string[::2]) #Start, Stop, Step\n",
    "print (my_string[2:3] + my_string[3:5])\n",
    "print(my_string[:-7:-1]) #reverse index slice"
   ]
  },
  {
   "cell_type": "markdown",
   "metadata": {},
   "source": [
    "Here, a range of letters are desired, and `<:>` appears in the brackets. As seen above, the syntax `<string>[0:3]` returned the 1st, 2nd and 3rd letters from that `<string>`.  \n",
    "`<string>[::2]` on the other hand returned every other letter from `<string>` from the start to finish.  \n",
    "\n",
    "The indexing notation has three positions `[start : stop : step]`.  \n",
    "\n",
    "As partially modeled in `my_string[::2]`, the `start`, `stop`, and `step` functionally have default values of `[0:n:1]` where n is the length. Thus, when Python sees one of those positions empty, it substitutes the \"defaults\".  \n",
    "\n",
    "Finally, it is worth noting that, as seen in `<string>[0:3]`, the character at the `start` index is returned, but **the character at the `stop` index is not returned.**  "
   ]
  },
  {
   "cell_type": "markdown",
   "metadata": {},
   "source": [
    "### String Methods\n",
    "\n",
    "Strings [have many useful methods](https://www.google.com/search?client=opera&hs=Z1I&ei=jpm1W_xHq8GPBM6bragJ&q=string+methods+python&oq=string+methods+python&gs_l=psy-ab.3..0i131j0l9.2278.3001..3283...0.0..0.136.759.0j7......0....1..gws-wiz.......0i71j0i131i67j0i67.ZaZjems-ONA) associated with them. While documentation is available online, `Jupyter Notebook` also has a useful feature for finding these methods.  \n",
    "\n",
    "In the picture below I have created a string and assigned it to the variable \"my_string\". After that variable name, I put a period and I hit `<tab>`. A list of available `attributes` and `methods` will then pop up.  \n",
    "![tab](./assets/Tab.png)  \n",
    "\n",
    "Two important notes: 1. The variable must already be assigned to an object. (e.g. the cell with the assignment must have been run). 2. there must be a period after the variable name.  \n",
    "\n",
    "Another useful `Jupyter` tool displays documentation. After having selected a method and having placed the required parentheses; while the cursor is inside the parentheses, hitting `<shift-tab>` will bring up the documentation.  \n",
    "![ShiftTab](./assets/ShiftTab.png)  \n",
    "\n",
    "Below demos the method `.strip()` which removes the trailing and leading white-space from a string"
   ]
  },
  {
   "cell_type": "code",
   "execution_count": 30,
   "metadata": {},
   "outputs": [],
   "source": [
    "#the dir method provides an output list of functions available\n",
    "#dir(my_string)"
   ]
  },
  {
   "cell_type": "code",
   "execution_count": 31,
   "metadata": {},
   "outputs": [
    {
     "name": "stdout",
     "output_type": "stream",
     "text": [
      "      John Doe      \n",
      "John Doe\n"
     ]
    }
   ],
   "source": [
    "my_string = \"      John Doe      \"\n",
    "print( my_string)\n",
    "print(my_string.strip())"
   ]
  },
  {
   "cell_type": "markdown",
   "metadata": {},
   "source": [
    "***Searching***"
   ]
  },
  {
   "cell_type": "code",
   "execution_count": 10,
   "metadata": {},
   "outputs": [
    {
     "data": {
      "text/plain": [
       "9"
      ]
     },
     "execution_count": 10,
     "metadata": {},
     "output_type": "execute_result"
    }
   ],
   "source": [
    "x = \"Too many cooks spoil the broth.\"\n",
    "x.find('cooks') #Returns the location of the first 'to' found"
   ]
  },
  {
   "cell_type": "code",
   "execution_count": 11,
   "metadata": {},
   "outputs": [
    {
     "data": {
      "text/plain": [
       "-1"
      ]
     },
     "execution_count": 11,
     "metadata": {},
     "output_type": "execute_result"
    }
   ],
   "source": [
    "x.find('hello') #Returns -1. I.e., the substring was not found in x"
   ]
  },
  {
   "cell_type": "code",
   "execution_count": 12,
   "metadata": {},
   "outputs": [
    {
     "name": "stdout",
     "output_type": "stream",
     "text": [
      "0.9032 <class 'float'>\n"
     ]
    }
   ],
   "source": [
    "y = '-DSPAM-Confidence:   0.9032'\n",
    "pos = y.find(':')      #finds the position of the colon in variable x\n",
    "num=float(y[pos+1:])   #looks for the next position after the colon, then strips the leading spaces bc it is a float\n",
    "print (num, type(num)) "
   ]
  },
  {
   "cell_type": "code",
   "execution_count": 13,
   "metadata": {},
   "outputs": [
    {
     "data": {
      "text/plain": [
       "'TOO MANY COOKS SPOIL THE BROTH.'"
      ]
     },
     "execution_count": 13,
     "metadata": {},
     "output_type": "execute_result"
    }
   ],
   "source": [
    "x.upper() # turns all letter to uppercase"
   ]
  },
  {
   "cell_type": "code",
   "execution_count": 14,
   "metadata": {},
   "outputs": [
    {
     "data": {
      "text/plain": [
       "'M'"
      ]
     },
     "execution_count": 14,
     "metadata": {},
     "output_type": "execute_result"
    }
   ],
   "source": [
    "x[4].upper() # specified uppercase"
   ]
  },
  {
   "cell_type": "code",
   "execution_count": 15,
   "metadata": {},
   "outputs": [
    {
     "data": {
      "text/plain": [
       "'Too many cook* *poil the broth.'"
      ]
     },
     "execution_count": 15,
     "metadata": {},
     "output_type": "execute_result"
    }
   ],
   "source": [
    "x.replace(\"s\",\"*\")"
   ]
  },
  {
   "cell_type": "code",
   "execution_count": 16,
   "metadata": {},
   "outputs": [
    {
     "name": "stdout",
     "output_type": "stream",
     "text": [
      "this is a string\n",
      "this is a longer string\n"
     ]
    }
   ],
   "source": [
    "a = 'this is a string'\n",
    "b = a.replace('string','longer string')\n",
    "print (a)\n",
    "print (b)"
   ]
  },
  {
   "cell_type": "code",
   "execution_count": 17,
   "metadata": {},
   "outputs": [
    {
     "name": "stdout",
     "output_type": "stream",
     "text": [
      "2\n",
      "['Too', 'many', 'cooks', 'spoil', 'the', 'broth.']\n",
      "too many cooks spoil the broth.\n",
      "tOO MANY COOKS SPOIL THE BROTH.\n",
      "Too many cooks spoil the broth.\n"
     ]
    }
   ],
   "source": [
    "print (x.count('s')) # counts the number of 's' in the string\n",
    "print (x.split(' ')) # Comma separates each word with parenthesis, and creates a list\n",
    "print (x.lower())    # All lower\n",
    "print (x.swapcase()) # Swaps the case in the original string\n",
    "print(x.capitalize()) #Capitalizes the first letter"
   ]
  },
  {
   "cell_type": "code",
   "execution_count": 46,
   "metadata": {},
   "outputs": [
    {
     "name": "stdout",
     "output_type": "stream",
     "text": [
      "This is a bright, sunny day\n",
      "This is a bright, sunny day      \n",
      "    This is a bright, sunny day\n",
      " : : : :T:h:i:s: :i:s: :a: :b:r:i:g:h:t:,: :s:u:n:n:y: :d:a:y: : : : : : \n",
      "37\n"
     ]
    }
   ],
   "source": [
    "str1 = \"    This is a bright, sunny day      \"\n",
    "print (str1.strip())  #removes the extra spaces rt and lt\n",
    "print (str1.lstrip()) #removes lefthand spaces\n",
    "print (str1.rstrip()) #removes righthand spaces\n",
    "print (\":\".join(str1)) #colon delimiter between all byte\n",
    "print (len(str1))     #calls the length of the sting"
   ]
  },
  {
   "cell_type": "code",
   "execution_count": 8,
   "metadata": {},
   "outputs": [
    {
     "data": {
      "text/plain": [
       "'Python is a lot of fun!'"
      ]
     },
     "execution_count": 8,
     "metadata": {},
     "output_type": "execute_result"
    }
   ],
   "source": [
    "# Format Method\n",
    "\n",
    "\"{0} is a lot of {1}\".format(\"Python\", \"fun!\")"
   ]
  },
  {
   "cell_type": "markdown",
   "metadata": {},
   "source": [
    "***Immutability***"
   ]
  },
  {
   "cell_type": "code",
   "execution_count": 47,
   "metadata": {},
   "outputs": [
    {
     "ename": "TypeError",
     "evalue": "'str' object does not support item assignment",
     "output_type": "error",
     "traceback": [
      "\u001b[1;31m---------------------------------------------------------------------------\u001b[0m",
      "\u001b[1;31mTypeError\u001b[0m                                 Traceback (most recent call last)",
      "\u001b[1;32m<ipython-input-47-3d18ea889740>\u001b[0m in \u001b[0;36m<module>\u001b[1;34m\u001b[0m\n\u001b[1;32m----> 1\u001b[1;33m \u001b[0mx\u001b[0m\u001b[1;33m[\u001b[0m\u001b[1;36m3\u001b[0m\u001b[1;33m]\u001b[0m \u001b[1;33m=\u001b[0m \u001b[1;34m'b'\u001b[0m \u001b[1;31m#TypeError. Can't change a string\u001b[0m\u001b[1;33m\u001b[0m\u001b[1;33m\u001b[0m\u001b[0m\n\u001b[0m",
      "\u001b[1;31mTypeError\u001b[0m: 'str' object does not support item assignment"
     ]
    }
   ],
   "source": [
    "x[3] = 'b' #TypeError. Can't change a string"
   ]
  },
  {
   "cell_type": "code",
   "execution_count": 48,
   "metadata": {},
   "outputs": [
    {
     "name": "stdout",
     "output_type": "stream",
     "text": [
      "2334348077296 2334348077296\n"
     ]
    }
   ],
   "source": [
    "x = \"Hello\"\n",
    "y = x\n",
    "print(id(x),id(y))\n",
    "#x and y are the same string"
   ]
  },
  {
   "cell_type": "code",
   "execution_count": 49,
   "metadata": {},
   "outputs": [
    {
     "name": "stdout",
     "output_type": "stream",
     "text": [
      "2334349038768 2334348077296\n"
     ]
    }
   ],
   "source": [
    "x=\"Always take a banana to a party!\"\n",
    "print(id(x),id(y))\n",
    "#x now points to a different string. y is still the same old string at the same old location!"
   ]
  },
  {
   "cell_type": "markdown",
   "metadata": {},
   "source": [
    "***Concatenation***"
   ]
  },
  {
   "cell_type": "code",
   "execution_count": 50,
   "metadata": {},
   "outputs": [
    {
     "name": "stdout",
     "output_type": "stream",
     "text": [
      "Hello Dolly HelloDolly 2334348077296 2334349028464 2334349059184\n"
     ]
    }
   ],
   "source": [
    "#The plus operator concatenates two strings to give rise to a third string\n",
    "x=\"Hello\"\n",
    "y=\"Dolly\"\n",
    "z=x+y\n",
    "print(x,y,z,id(x),id(y),id(z)) #x, y and z are all different strings"
   ]
  },
  {
   "cell_type": "code",
   "execution_count": 53,
   "metadata": {},
   "outputs": [
    {
     "name": "stdout",
     "output_type": "stream",
     "text": [
      "Hello -DSPAM-Confidence:   0.9032\n"
     ]
    }
   ],
   "source": [
    "#Since python doesn't understand that we need a space between Hello and Dolly, we need to add it ourselves\n",
    "z = x + \" \" + y\n",
    "print(z)"
   ]
  },
  {
   "cell_type": "markdown",
   "metadata": {},
   "source": [
    "***Printing***"
   ]
  },
  {
   "cell_type": "code",
   "execution_count": 54,
   "metadata": {},
   "outputs": [
    {
     "data": {
      "text/plain": [
       "'4.556 Argentine Pesos is $1'"
      ]
     },
     "execution_count": 54,
     "metadata": {},
     "output_type": "execute_result"
    }
   ],
   "source": [
    "string = \"This is python\"\n",
    "#strlist = list(string)\n",
    "#print(strlist)\n",
    "\n",
    "#'f','s','d' are operators to dynamically populate string values\n",
    "format = '%.3f %s is $%d'           #sets up the statement below: percision 3 decimals, s is all text, $, d all numerics\n",
    "format %(4.5560,'Argentine Pesos',1)"
   ]
  },
  {
   "cell_type": "code",
   "execution_count": 55,
   "metadata": {},
   "outputs": [],
   "source": [
    "my_school = \"De Paul\"\n",
    "another_school = \"st. xaviers\"\n",
    "town = \"township\"\n",
    "beach = \"blue\"\n",
    "commute = \"bus\""
   ]
  },
  {
   "cell_type": "code",
   "execution_count": 56,
   "metadata": {},
   "outputs": [
    {
     "name": "stdout",
     "output_type": "stream",
     "text": [
      "I study in school my_school\n",
      "i study in school  De Paul There is another school adjacent to us st. xaviers  i live in a small  township we have a beach which has colour blue we use to commute on bus\n"
     ]
    }
   ],
   "source": [
    "# basic way of printing\n",
    "print (\"I study in school my_school\")\n",
    "print (\"i study in school \", my_school , 'There is another school adjacent to us' , another_school,\" i live in a small \", town , \"we have a beach which has colour\" , beach , 'we use to commute on', commute)"
   ]
  },
  {
   "cell_type": "code",
   "execution_count": 57,
   "metadata": {},
   "outputs": [],
   "source": [
    "add = \"mon /n tue /n wed\""
   ]
  },
  {
   "cell_type": "code",
   "execution_count": 58,
   "metadata": {},
   "outputs": [
    {
     "name": "stdout",
     "output_type": "stream",
     "text": [
      "i study in school De Paul. There is another school adjancent to us st. xaviers. I live in a small township. we have a beach which has color blue. We used to commute to school on bus.\n"
     ]
    }
   ],
   "source": [
    "# type casting\n",
    "# %d -> numbers, %f-> float,%s-> string , %r -> raw\n",
    "print (\"i study in school %s. There is another school adjancent to us %s. I live in a small %s. we have a beach which has color %s. We used to commute to school on %s.\" \n",
    "       %(my_school,another_school,town,beach,commute))"
   ]
  },
  {
   "cell_type": "code",
   "execution_count": 59,
   "metadata": {},
   "outputs": [
    {
     "name": "stdout",
     "output_type": "stream",
     "text": [
      "my school is De Paul. I love my De Paul\n"
     ]
    }
   ],
   "source": [
    "print (\"my school is %s. I love my %s\" %(my_school,my_school))"
   ]
  },
  {
   "cell_type": "code",
   "execution_count": 60,
   "metadata": {},
   "outputs": [
    {
     "name": "stdout",
     "output_type": "stream",
     "text": [
      "my school is De Paul.I love my De Paul\n",
      "my school is De Paul.I love my st. xaviers\n",
      "my school is st. xaviers.I love my st. xaviers\n",
      "my school is De Paul.I love my school st. xaviers\n",
      "my school is De Paul.I love my school st. xaviers\n"
     ]
    }
   ],
   "source": [
    "# format\n",
    "print (\"my school is {}.I love my {}\".format(my_school,my_school))\n",
    "print (\"my school is {}.I love my {}\".format(my_school,another_school))\n",
    "# my_school => 0 index\n",
    "# another_school => 1 index\n",
    "print (\"my school is {1}.I love my {1}\".format(my_school,another_school))\n",
    "print (\"my school is {ms}.I love my school {ans}\".format(ms=my_school,ans=another_school))\n",
    "print (\"my school is {!s}.I love my school {!s}\".format(my_school,another_school))"
   ]
  },
  {
   "cell_type": "code",
   "execution_count": 61,
   "metadata": {},
   "outputs": [
    {
     "name": "stdout",
     "output_type": "stream",
     "text": [
      " hello world, how is it.\n",
      "hey its a day after holiday.\n",
      "Still i am lazy.\n",
      "\n"
     ]
    },
    {
     "data": {
      "text/plain": [
       "'\\nHey this is a commented line.\\nHope i will write a book next time.\\n'"
      ]
     },
     "execution_count": 61,
     "metadata": {},
     "output_type": "execute_result"
    }
   ],
   "source": [
    "#DocStrings\n",
    "# ''' '''\n",
    "# \"\"\" \"\"\"\n",
    "\n",
    "print (\"\"\" hello world, how is it.\n",
    "hey its a day after holiday.\n",
    "Still i am lazy.\n",
    "\"\"\")\n",
    "\n",
    "# Commenting\n",
    "'''\n",
    "Hey this is a commented line.\n",
    "Hope i will write a book next time.\n",
    "'''\n",
    "# '#' represents a comment.\n",
    "\n",
    "# print my_string\n",
    "# my_string"
   ]
  },
  {
   "cell_type": "code",
   "execution_count": 62,
   "metadata": {},
   "outputs": [
    {
     "name": "stdout",
     "output_type": "stream",
     "text": [
      "Tuesday\n",
      "**********\n",
      "Days of a week are \n",
      " mon \n",
      " tue \n",
      " wed \n",
      " thu \n",
      " fri \n",
      " sat\n",
      "Days of a week are '\\n mon \\n tue \\n wed \\n thu \\n fri \\n sat'\n"
     ]
    }
   ],
   "source": [
    "# Playing with strings\n",
    "# concatenation\n",
    "print ('Tues' + 'day')\n",
    "print ('*' * 10)\n",
    "# indexing\n",
    "# slicing\n",
    "# %s vs %r -> raw -> str() and repr()\n",
    "# \\n is a return operator\n",
    "weeks = \"\\n mon \\n tue \\n wed \\n thu \\n fri \\n sat\"\n",
    "print (\"Days of a week are %s\" %(weeks))\n",
    "#Ignore variable formatting\n",
    "print (\"Days of a week are %r\" %(weeks))"
   ]
  },
  {
   "cell_type": "markdown",
   "metadata": {},
   "source": [
    "***Input Value Statements***"
   ]
  },
  {
   "cell_type": "code",
   "execution_count": 2,
   "metadata": {},
   "outputs": [
    {
     "name": "stdout",
     "output_type": "stream",
     "text": [
      "please enter your name:1\n",
      "<class 'str'>\n",
      "1\n"
     ]
    }
   ],
   "source": [
    "name = input(\"please enter your name:\") # creates the prompt w/ your question\n",
    "print (type(name))\n",
    "print (name)"
   ]
  },
  {
   "cell_type": "code",
   "execution_count": 3,
   "metadata": {},
   "outputs": [
    {
     "name": "stdout",
     "output_type": "stream",
     "text": [
      "please enter a number:9\n",
      "<class 'int'>\n",
      "9\n"
     ]
    }
   ],
   "source": [
    "#this input statement only accepts and integer\n",
    "num = int(input(\"please enter a number:\"))\n",
    "print (type(num))\n",
    "print (num)"
   ]
  },
  {
   "cell_type": "code",
   "execution_count": 4,
   "metadata": {},
   "outputs": [
    {
     "name": "stdout",
     "output_type": "stream",
     "text": [
      "please enter your name:Ron\n",
      "please enter your gender:M\n",
      "please enter your rollno:2\n",
      "<class 'str'> <class 'str'> <class 'str'>\n",
      "my name is Ron and my gender is M and my roll is 2\n"
     ]
    }
   ],
   "source": [
    "name = input(\"please enter your name:\")\n",
    "gender = input(\"please enter your gender:\")\n",
    "roll = input(\"please enter your rollno:\")\n",
    "print (type(name),type(gender),type(roll))\n",
    "print (\"my name is {} and my gender is {} and my roll is {}\".format(name,gender,roll))"
   ]
  },
  {
   "cell_type": "code",
   "execution_count": null,
   "metadata": {},
   "outputs": [],
   "source": []
  }
 ],
 "metadata": {
  "kernelspec": {
   "display_name": "Python 3",
   "language": "python",
   "name": "python3"
  },
  "language_info": {
   "codemirror_mode": {
    "name": "ipython",
    "version": 3
   },
   "file_extension": ".py",
   "mimetype": "text/x-python",
   "name": "python",
   "nbconvert_exporter": "python",
   "pygments_lexer": "ipython3",
   "version": "3.7.6"
  }
 },
 "nbformat": 4,
 "nbformat_minor": 4
}
